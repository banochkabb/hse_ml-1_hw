{
 "cells": [
  {
   "cell_type": "markdown",
   "metadata": {},
   "source": [
    "# Машинное обучение, ФКН ВШЭ\n",
    "\n",
    "## Практическое задание 4. Классификация. \n",
    "\n",
    "### Общая информация\n",
    "Дата выдачи: 29.10.2021\n",
    "\n",
    "Мягкий дедлайн: 23:59MSK 10.11.2021 (за каждый день просрочки снимается 1 балл)\n",
    "\n",
    "Жесткий дедлайн: 23:59MSK 13.11.2021"
   ]
  },
  {
   "cell_type": "markdown",
   "metadata": {},
   "source": [
    "### О задании\n",
    "\n",
    "В этом задании вы:\n",
    "- ознакомитесь с тем, что происходит \"внутри\" метода опорных векторов и логистической регрессии\n",
    "- познакомитесь с калибровкой вероятности\n",
    "- изучите методы трансформации переменных и методы отбора признаков\n",
    "- попробуете оценить экономический эффект модели\n",
    "\n",
    "\n",
    "### Оценивание и штрафы\n",
    "Каждая из задач имеет определенную «стоимость» (указана в скобках около задачи). Максимально допустимая оценка за работу — 10 баллов.\n",
    "\n",
    "Сдавать задание после указанного срока сдачи нельзя. При выставлении неполного балла за задание в связи с наличием ошибок на усмотрение проверяющего предусмотрена возможность исправить работу на указанных в ответном письме условиях.\n",
    "\n",
    "Задание выполняется самостоятельно. «Похожие» решения считаются плагиатом и все задействованные студенты (в том числе те, у кого списали) не могут получить за него больше 0 баллов (подробнее о плагиате см. на странице курса). Если вы нашли решение какого-то из заданий (или его часть) в открытом источнике, необходимо указать ссылку на этот источник в отдельном блоке в конце вашей работы (скорее всего вы будете не единственным, кто это нашел, поэтому чтобы исключить подозрение в плагиате, необходима ссылка на источник).\n",
    "\n",
    "Неэффективная реализация кода может негативно отразиться на оценке.\n",
    "\n",
    "\n",
    "### Формат сдачи\n",
    "Для сдачи задания переименуйте получившийся файл *.ipynb в соответствии со следующим форматом: homework-practice-04-classification-Username.ipynb, где Username — ваша фамилия и имя на латинице именно в таком порядке (например, homework-practice-04-classification-IvanovIvan.ipynb).\n",
    "\n",
    "Для удобства проверки самостоятельно посчитайте свою максимальную оценку (исходя из набора решенных задач) и укажите ниже.\n",
    "\n",
    "**Оценка**: 9?"
   ]
  },
  {
   "cell_type": "code",
   "execution_count": 1,
   "metadata": {},
   "outputs": [],
   "source": [
    "import numpy as np\n",
    "import pandas as pd\n",
    "import matplotlib.pyplot as plt\n",
    "%matplotlib inline\n",
    "\n",
    "pd.set_option('display.max_rows', 100)\n",
    "pd.set_option('display.max_columns', 100)"
   ]
  },
  {
   "cell_type": "markdown",
   "metadata": {},
   "source": [
    "# Часть 0. SVM, LR и калибровка вероятностей. "
   ]
  },
  {
   "cell_type": "markdown",
   "metadata": {},
   "source": [
    "Сгенерируем синтетические данные."
   ]
  },
  {
   "cell_type": "code",
   "execution_count": 2,
   "metadata": {},
   "outputs": [],
   "source": [
    "from sklearn.datasets import make_classification\n",
    "from sklearn.model_selection import train_test_split\n",
    "\n",
    "X, y = make_classification(\n",
    "    n_samples=10000, n_features=10, n_informative=5, n_redundant=5,\n",
    "    random_state=42)\n",
    "\n",
    "X_train, X_test, y_train, y_test = train_test_split(\n",
    "    X, y, test_size=0.3, random_state=42)"
   ]
  },
  {
   "cell_type": "markdown",
   "metadata": {},
   "source": [
    "__Задание 1.__ Обучение и применение метода опорных векторов и логистической регрессии.\n",
    "\n",
    "__(1 балл)__\n",
    "\n",
    "Обучите метод опорных векторов. На занятиях мы проходили линейный вариант без ядрового перехода, что соответствует линейному ядру (`LinearSVC` или же `SVC(kernel='linear')` в `sklearn.svm`). Подберите параметр регуляризации `C` (можете воспользоваться кросс-валидацией или отделить валидационную выборку от обучающей). __Здесь и далее, если не сказано иначе, подбирайте оптимальные гиперпараметры с точки зрения AUC-PR.__"
   ]
  },
  {
   "cell_type": "code",
   "execution_count": 3,
   "metadata": {},
   "outputs": [],
   "source": [
    "from sklearn.model_selection import GridSearchCV\n",
    "from sklearn.svm import LinearSVC, SVC\n",
    "from sklearn.pipeline import make_pipeline\n",
    "from sklearn.preprocessing import StandardScaler\n",
    "from sklearn.preprocessing import OrdinalEncoder, OneHotEncoder\n",
    "from sklearn.model_selection import train_test_split\n",
    "from sklearn.metrics import precision_recall_curve, average_precision_score\n",
    "from sklearn.svm import SVC\n",
    "import sklearn\n",
    "import time\n",
    "import matplotlib.pyplot as plt\n",
    "from sklearn.metrics import roc_auc_score, roc_curve, auc, average_precision_score\n",
    "import random\n",
    "from sklearn.linear_model import LogisticRegression\n",
    "from sklearn.calibration import CalibratedClassifierCV, calibration_curve\n",
    "from sklearn.model_selection import KFold"
   ]
  },
  {
   "cell_type": "code",
   "execution_count": 108,
   "metadata": {},
   "outputs": [],
   "source": [
    "svm = SVC(kernel='linear')\n",
    "params_svc = {\n",
    "    'C': [1e-3, 1e-2, 1e-1, 1, 3, 4, 5, 6, 10, 20],\n",
    "}\n",
    "\n",
    "grid_svc = GridSearchCV(estimator=svm, param_grid=params_svc, scoring='average_precision', verbose = 0, cv = 5)\n",
    "grid_result_svc = grid_svc.fit(X_train,y_train)"
   ]
  },
  {
   "cell_type": "code",
   "execution_count": 109,
   "metadata": {},
   "outputs": [
    {
     "name": "stdout",
     "output_type": "stream",
     "text": [
      "Best params:  {'C': 0.001}\n"
     ]
    }
   ],
   "source": [
    "print(\"Best params: \", (grid_result_svc.best_params_))"
   ]
  },
  {
   "cell_type": "markdown",
   "metadata": {},
   "source": [
    "На тестовой части постройте ROC и PR кривые, а также посчитайте AUC-ROC, AUC-PR с точностью до 5 знаков. Сравните AUC-ROC и AUC-PR для вашей модели с этими же метриками для случайного классификатора (который на каждом объекте выдаёт один из двух классов с равными вероятностями)."
   ]
  },
  {
   "cell_type": "code",
   "execution_count": 110,
   "metadata": {},
   "outputs": [
    {
     "name": "stdout",
     "output_type": "stream",
     "text": [
      "AUC-PR = 0.82169\n",
      "ROC-AUC = 0.84726\n"
     ]
    },
    {
     "data": {
      "image/png": "[encoded data removed]",
      "text/plain": [
       "<Figure size 432x288 with 1 Axes>"
      ]
     },
     "metadata": {
      "needs_background": "light"
     },
     "output_type": "display_data"
    }
   ],
   "source": [
    "svm = SVC(kernel='linear', C=0.001)\n",
    "svm.fit(X_train, y_train)\n",
    "y_pred = svm.decision_function(X_test)\n",
    "fpr, tpr, thresholds = roc_curve(y_test, np.around(y_pred, 5))\n",
    "plt.plot(fpr, tpr, color='magenta', label='ROC CURVE')\n",
    "plt.legend(loc='lower right')\n",
    "plt.xlabel('FPR')\n",
    "plt.ylabel('TPR')\n",
    "print('AUC-PR = %0.5f' % average_precision_score(y_test, y_pred))\n",
    "print('ROC-AUC = %0.5f' % roc_auc_score(y_test, y_pred))"
   ]
  },
  {
   "cell_type": "code",
   "execution_count": 111,
   "metadata": {},
   "outputs": [
    {
     "name": "stdout",
     "output_type": "stream",
     "text": [
      "AUC-PR = 0.82169\n",
      "ROC-AUC = 0.84726\n"
     ]
    },
    {
     "data": {
      "image/png": "[encoded data removed]",
      "text/plain": [
       "<Figure size 432x288 with 1 Axes>"
      ]
     },
     "metadata": {
      "needs_background": "light"
     },
     "output_type": "display_data"
    }
   ],
   "source": [
    "y_pred = svm.decision_function(X_test)\n",
    "pr, rec, thresholds = precision_recall_curve(y_test, np.around(y_pred, 5))\n",
    "plt.plot(rec, pr, color='magenta', label='PR CURVE' % auc(rec, pr))\n",
    "plt.legend(loc='lower right')\n",
    "plt.xlabel('RECALL')\n",
    "plt.ylabel('PRECISION')\n",
    "print('AUC-PR = %0.5f' % average_precision_score(y_test, y_pred))\n",
    "print('ROC-AUC = %0.5f' % roc_auc_score(y_test, y_pred))"
   ]
  },
  {
   "cell_type": "markdown",
   "metadata": {},
   "source": [
    "А теперь проделайте все то же самое для логистической регрессии (LR) — обучение, подбор параметра регуляризации (используйте L2-регуляризацию), вычисление всех метрик и построение кривых. Сравните результаты LR и SVM с точки зрения всех вычисленных критериев качества, объясните различия (если они есть)."
   ]
  },
  {
   "cell_type": "code",
   "execution_count": 112,
   "metadata": {},
   "outputs": [],
   "source": [
    "logreg = LogisticRegression(fit_intercept = True, max_iter = 1000, \n",
    "                          tol=1e-5, penalty='l2', solver='liblinear')\n",
    "params_logreg = {\n",
    "    'C': [1e-3, 1e-2, 1e-1, 1, 3, 4, 5, 6, 10, 20],\n",
    "    \n",
    "}\n",
    "\n",
    "grid_logreg = GridSearchCV(estimator=logreg, param_grid=params_logreg, scoring='roc_auc', verbose = 0, cv = 5)\n",
    "grid_result_logreg = grid_logreg.fit(X_train,y_train)\n"
   ]
  },
  {
   "cell_type": "code",
   "execution_count": 113,
   "metadata": {},
   "outputs": [
    {
     "name": "stdout",
     "output_type": "stream",
     "text": [
      "Best params:  {'C': 3}\n"
     ]
    }
   ],
   "source": [
    "print(\"Best params: \", (grid_result_logreg.best_params_))"
   ]
  },
  {
   "cell_type": "code",
   "execution_count": 114,
   "metadata": {},
   "outputs": [
    {
     "name": "stdout",
     "output_type": "stream",
     "text": [
      "AUC-PR = 0.82937\n",
      "ROC-AUC = 0.84787\n"
     ]
    },
    {
     "data": {
      "image/png": "[encoded data removed]",
      "text/plain": [
       "<Figure size 432x288 with 1 Axes>"
      ]
     },
     "metadata": {
      "needs_background": "light"
     },
     "output_type": "display_data"
    }
   ],
   "source": [
    "logreg = LogisticRegression(fit_intercept = True, max_iter = 1000, \n",
    "                          tol=1e-5, penalty='l2', solver='liblinear', C=3)\n",
    "logreg.fit(X_train, y_train)\n",
    "y_pred = logreg.decision_function(X_test)\n",
    "fpr, tpr, thresholds = roc_curve(y_test, np.around(y_pred, 5))\n",
    "plt.plot(fpr, tpr, color='magenta', label='ROC CURVE')\n",
    "plt.legend(loc='lower right')\n",
    "plt.xlabel('FPR')\n",
    "plt.ylabel('TPR')\n",
    "print('AUC-PR = %0.5f' % average_precision_score(y_test, y_pred))\n",
    "print('ROC-AUC = %0.5f' % roc_auc_score(y_test, y_pred))"
   ]
  },
  {
   "cell_type": "code",
   "execution_count": 115,
   "metadata": {},
   "outputs": [
    {
     "name": "stdout",
     "output_type": "stream",
     "text": [
      "AUC-PR = 0.82937\n",
      "ROC-AUC = 0.84787\n"
     ]
    },
    {
     "data": {
      "image/png": "[encoded data removed]",
      "text/plain": [
       "<Figure size 432x288 with 1 Axes>"
      ]
     },
     "metadata": {
      "needs_background": "light"
     },
     "output_type": "display_data"
    }
   ],
   "source": [
    "logreg = LogisticRegression(fit_intercept = True, max_iter = 1000, \n",
    "                          tol=1e-5, penalty='l2', solver='liblinear', C=3)\n",
    "logreg.fit(X_train, y_train)\n",
    "y_pred = logreg.decision_function(X_test)\n",
    "pr, rec, thresholds = precision_recall_curve(y_test, np.around(y_pred, 5))\n",
    "plt.plot(rec, pr, color='magenta', label='PR CURVE' % auc(rec, pr))\n",
    "plt.legend(loc='lower right')\n",
    "plt.xlabel('RECALL')\n",
    "plt.ylabel('PRECISION')\n",
    "print('AUC-PR = %0.5f' % average_precision_score(y_test, y_pred))\n",
    "print('ROC-AUC = %0.5f' % roc_auc_score(y_test, y_pred))"
   ]
  },
  {
   "cell_type": "markdown",
   "metadata": {},
   "source": [
    "В названии метода опорных векторов присутствуют некоторые \"опорные векторы\". Сгенерируйте синтетические данные с помощью `make_classification` с 2 признаками, обучите на нём метод опорных векторов. Визуализируйте разделяющую прямую, все объекты и выделите опорные векторы (атрибут `support_vectors_`). В этот раз, если необходимо, вместо `LinearSVC` воспользуйтесь `SVC(kernel='linear')`, так как только в нём есть информация об опорных векторах."
   ]
  },
  {
   "cell_type": "code",
   "execution_count": 56,
   "metadata": {},
   "outputs": [
    {
     "data": {
      "text/plain": [
       "<matplotlib.collections.PathCollection at 0x141cefcd0>"
      ]
     },
     "execution_count": 56,
     "metadata": {},
     "output_type": "execute_result"
    },
    {
     "data": {
      "image/png": "[encoded data removed]",
      "text/plain": [
       "<Figure size 432x288 with 1 Axes>"
      ]
     },
     "metadata": {
      "needs_background": "light"
     },
     "output_type": "display_data"
    }
   ],
   "source": [
    "X, y = make_classification(n_samples=10000, n_features=2, \n",
    "                          n_redundant=0, random_state=42)\n",
    "\n",
    "X_train, X_test, y_train, y_test = train_test_split(\n",
    "    X, y, test_size=0.3, random_state=42)\n",
    "\n",
    "svm = SVC(kernel='linear', C=0.001)\n",
    "svm.fit(X_train, y_train)\n",
    "y_pred_train = svm.decision_function(X_train)\n",
    "\n",
    "ax = plt.gca()\n",
    "plt.scatter(X_train[:, 0], X_train[:, 1], c=y_train, cmap='cool' )\n",
    "X, y = np.meshgrid(np.linspace(ax.get_xlim()[0], ax.get_xlim()[1]),\n",
    "                     np.linspace(ax.get_ylim()[0], ax.get_ylim()[1]))\n",
    "Z = svm.decision_function(np.c_[X.ravel(), y.ravel()])\n",
    "plt.contour(X, y, Z.reshape(X.shape), colors='black', levels=[-1, 0, 1],\n",
    "            linestyles=['--', '-', '--'])\n",
    "\n",
    "\n",
    "support_vectors = X_train[np.where((2 * y_train - 1) * y_pred_train <= 1)[0]]\n",
    "plt.scatter(support_vectors[:, 0], support_vectors[:, 1], \n",
    "           facecolors='lime')\n",
    "\n"
   ]
  },
  {
   "cell_type": "markdown",
   "metadata": {},
   "source": [
    "__Задание 2.__ Калибровка вероятностей.\n",
    "\n",
    "__(1 балл)__\n",
    "\n",
    "Перейдём к оценке качества выдаваемых алгоритмами вероятностей. Начнём с калибровочных кривых. \n",
    "\n",
    "Допустим, алгоритм возвращает некоторые числа от нуля до единицы. Хорошо ли они оценивают вероятность? Для этого разобьем отрезок $[0, 1]$ на несколько маленьких отрезков одинаковой длины. Рассмотрим $i$-й отрезок с границами $[a_i, b_i]$ и предсказания $p_1, p_2, \\dots, p_k$, которые попали в него. Пусть им соответствуют истинные ответы $y_1, y_2, \\dots, y_k$. Если алгоритм выдает корректные вероятности, то среди этих истинных ответов должно быть примерно $(a_i + b_i) / 2$ единиц. Иными словами, если нарисовать кривую, у которой по оси X отложены центры отрезков, а по оси Y — доли единичных ответов этих в отрезках, то она должна оказаться диагональной. Ниже приведена функция, которая должна рисовать такие кривые. В ней допущено две ошибки — найдите и исправьте их."
   ]
  },
  {
   "cell_type": "code",
   "execution_count": 113,
   "metadata": {},
   "outputs": [],
   "source": [
    "def plot_calibration_curve(y_test, preds):\n",
    "    bin_middle_points = []\n",
    "    bin_real_ratios = []\n",
    "    n_bins = 10\n",
    "    for i in range(n_bins):\n",
    "        l = 1.0 / n_bins * i\n",
    "        r = 1.0 / n_bins * (i + 1)\n",
    "        bin_middle_points.append((r + l) / 2) \n",
    "        bin_real_ratios.append(np.sum((preds >= l) & (preds < r) & (y_test == 1)) / (np.sum((preds >= l) & (preds < r)))) \n",
    "    plt.figure(figsize=(6,6))\n",
    "    plt.plot(bin_middle_points, bin_real_ratios, color='magenta')\n",
    "    plt.ylim([-0.05, 1.05])\n",
    "    plt.grid()"
   ]
  },
  {
   "cell_type": "markdown",
   "metadata": {},
   "source": [
    "Сгенерируйте синтетические данные аналогично использованным в самом первом задании. Постройте калибровочные кривые на тестовой части для логистической регрессии и метода опорных векторов (не забудьте перевести его предсказания в $[0;1]$). Изучите распределение ответов классификаторов (постройте гистограммы с помощью `plt.hist`). Чем они различаются? Чем вы можете объяснить это?"
   ]
  },
  {
   "cell_type": "code",
   "execution_count": 34,
   "metadata": {},
   "outputs": [
    {
     "data": {
      "image/png": "[encoded data removed]",
      "text/plain": [
       "<Figure size 504x504 with 1 Axes>"
      ]
     },
     "metadata": {
      "needs_background": "light"
     },
     "output_type": "display_data"
    }
   ],
   "source": [
    "plt.figure(figsize=(7, 7))\n",
    "X, y = make_classification( n_samples=10000, n_features=10, n_informative=5, n_redundant=5, random_state=42)\n",
    "X_train, X_test, y_train, y_test = train_test_split(X, y, test_size=0.3, random_state=42)\n",
    "\n",
    "\n",
    "svm = LinearSVC(max_iter=100000, C=0.1).fit(X_train, y_train)\n",
    "answers_svm = svm.decision_function(X_test)\n",
    "\n",
    "logreg = LogisticRegression(fit_intercept = True, max_iter = 1000, \n",
    "                          tol=1e-5, penalty='l2', solver='liblinear', C=3).fit(X_train, y_train)\n",
    "\n",
    "answers_svm = (answers_svm - answers_svm.min()) / (answers_svm.max() - answers_svm.min())\n",
    "answers_logreg = logreg.predict_proba(X_test)[:, 1]\n",
    "\n",
    "svc_true_prob, svc_pred_prob = calibration_curve(y_test, answers_svm, n_bins=15)\n",
    "lr_true_prob, lr_pred_prob = calibration_curve(y_test, answers_logreg, n_bins=15)\n",
    "\n",
    "plt.plot(svc_pred_prob, svc_true_prob, label='SVC', color='magenta')\n",
    "plt.plot(lr_pred_prob, lr_true_prob, label='LR', color='cyan')\n",
    "plt.plot([0, 1], [0, 1], label='Perfect', linestyle='--', color='green')\n",
    "\n",
    "plt.xlabel('Mean predicted probability')\n",
    "plt.ylabel('Fraction of positives')\n",
    "plt.title('Calibration curves')\n",
    "plt.legend()\n",
    "plt.show()"
   ]
  },
  {
   "cell_type": "code",
   "execution_count": 35,
   "metadata": {},
   "outputs": [
    {
     "data": {
      "image/png": "[encoded data removed]",
      "text/plain": [
       "<Figure size 1008x504 with 2 Axes>"
      ]
     },
     "metadata": {
      "needs_background": "light"
     },
     "output_type": "display_data"
    }
   ],
   "source": [
    "fig, axs = plt.subplots(1, 2, figsize=(14, 7))\n",
    "\n",
    "axs[0].hist(answers_svm, bins=20, color='magenta', density='True')\n",
    "axs[1].hist(answers_logreg, bins=20, color='cyan', density='True')\n",
    "\n",
    "axs[0].set_title('SVM')\n",
    "axs[1].set_title('LOGREG')\n",
    "\n",
    "plt.suptitle('Outputs distribution')\n",
    "plt.show()"
   ]
  },
  {
   "cell_type": "markdown",
   "metadata": {},
   "source": [
    "**Вывод:**  логистическая регрессия слишком \"уверена\" в предсказаниях (из-за быстрого приближения сигмоиды к асимптотам), а svm, напротив, \"не уверен\" в большинстве объектов (действительно, как мы видели, многие из низ оказываются внутри разделяющей полосы)\n"
   ]
  },
  {
   "cell_type": "markdown",
   "metadata": {},
   "source": [
    "Воспользуйтесь `CalibratedClassifierCV` из `sklearn` для калибровки вероятностей метода опорных векторов на обучении и постройте с его помощью предсказания для тестовой выборки. Нарисуйте для них калибровочную кривую. Улучшилась ли она?"
   ]
  },
  {
   "cell_type": "code",
   "execution_count": 36,
   "metadata": {},
   "outputs": [
    {
     "data": {
      "image/png": "[encoded data removed]",
      "text/plain": [
       "<Figure size 504x504 with 1 Axes>"
      ]
     },
     "metadata": {
      "needs_background": "light"
     },
     "output_type": "display_data"
    }
   ],
   "source": [
    "fig, axs = plt.subplots(1, 1, figsize=(7, 7))\n",
    "svm = CalibratedClassifierCV(LinearSVC(max_iter=1000, C=0.1)).fit(X_train, y_train)\n",
    "answers_svm = svm.predict_proba(X_test)[:,1]\n",
    "svc_true_prob, svc_pred_prob = calibration_curve(y_test, answers_svm, n_bins=15)\n",
    "axs.plot(svc_pred_prob, svc_true_prob, label='SVC', color='magenta')\n",
    "axs.plot([0, 1], [0, 1], label='Perfect', linestyle='--', color='cyan')\n",
    "plt.show()"
   ]
  },
  {
   "cell_type": "markdown",
   "metadata": {},
   "source": [
    "**Вывод:** Улучшилась"
   ]
  },
  {
   "cell_type": "markdown",
   "metadata": {},
   "source": [
    "# Часть 1. Работа с переменными."
   ]
  },
  {
   "cell_type": "markdown",
   "metadata": {},
   "source": [
    "В этой части мы научимся обрабатывать категориальные переменные, так как закодировать их в виде чисел недостаточно (это задаёт некоторый порядок, которого на категориальных переменных может и не быть). Существует два основных способа обработки категориальных значений:\n",
    "- One-hot-кодирование\n",
    "- Счётчики (CTR, mean-target кодирование, ...) — каждый категориальный признак заменяется на среднее значение целевой переменной по всем объектам, имеющим одинаковое значение в этом признаке.\n",
    "\n",
    "Начнём с one-hot-кодирования. Допустим наш категориальный признак $f_j(x)$ принимает значения из множества $C=\\{c_1, \\dots, c_m\\}$. Заменим его на $m$ бинарных признаков $b_1(x), \\dots, b_m(x)$, каждый из которых является индикатором одного из возможных категориальных значений:\n",
    "$$\n",
    "b_i(x) = [f_j(x) = c_i]\n",
    "$$"
   ]
  },
  {
   "cell_type": "markdown",
   "metadata": {},
   "source": [
    "__Подготовка данных.__\n",
    "\n",
    "Загрузим данные [UCI Bank Marketing Dataset](https://archive.ics.uci.edu/ml/datasets/bank+marketing). Этот датасет содержит информацию о банковском телефонном маркетинге, объектом в нем является телефонный звонок потенциальному клиенту с предложением некоторой услуги (утверждается, что это краткосрочный депозит), целевой переменной - ответ клиента (согласился ли он открыть депозит?). В качестве признакового описания используются характеристики клиента (образование, брак и т.д.), данные о звонке и различные экономические индикаторы - более подробная информация представлена в файле `bank-additional-names.txt`."
   ]
  },
  {
   "cell_type": "code",
   "execution_count": 117,
   "metadata": {},
   "outputs": [],
   "source": [
    "df = pd.read_csv('bank-additional/bank-additional-full.csv', sep=';')"
   ]
  },
  {
   "cell_type": "code",
   "execution_count": 118,
   "metadata": {},
   "outputs": [
    {
     "data": {
      "text/html": [
       "<div>\n",
       "<style scoped>\n",
       "    .dataframe tbody tr th:only-of-type {\n",
       "        vertical-align: middle;\n",
       "    }\n",
       "\n",
       "    .dataframe tbody tr th {\n",
       "        vertical-align: top;\n",
       "    }\n",
       "\n",
       "    .dataframe thead th {\n",
       "        text-align: right;\n",
       "    }\n",
       "</style>\n",
       "<table border=\"1\" class=\"dataframe\">\n",
       "  <thead>\n",
       "    <tr style=\"text-align: right;\">\n",
       "      <th></th>\n",
       "      <th>age</th>\n",
       "      <th>job</th>\n",
       "      <th>marital</th>\n",
       "      <th>education</th>\n",
       "      <th>default</th>\n",
       "      <th>housing</th>\n",
       "      <th>loan</th>\n",
       "      <th>contact</th>\n",
       "      <th>month</th>\n",
       "      <th>day_of_week</th>\n",
       "      <th>duration</th>\n",
       "      <th>campaign</th>\n",
       "      <th>pdays</th>\n",
       "      <th>previous</th>\n",
       "      <th>poutcome</th>\n",
       "      <th>emp.var.rate</th>\n",
       "      <th>cons.price.idx</th>\n",
       "      <th>cons.conf.idx</th>\n",
       "      <th>euribor3m</th>\n",
       "      <th>nr.employed</th>\n",
       "      <th>y</th>\n",
       "    </tr>\n",
       "  </thead>\n",
       "  <tbody>\n",
       "    <tr>\n",
       "      <th>0</th>\n",
       "      <td>56</td>\n",
       "      <td>housemaid</td>\n",
       "      <td>married</td>\n",
       "      <td>basic.4y</td>\n",
       "      <td>no</td>\n",
       "      <td>no</td>\n",
       "      <td>no</td>\n",
       "      <td>telephone</td>\n",
       "      <td>may</td>\n",
       "      <td>mon</td>\n",
       "      <td>261</td>\n",
       "      <td>1</td>\n",
       "      <td>999</td>\n",
       "      <td>0</td>\n",
       "      <td>nonexistent</td>\n",
       "      <td>1.1</td>\n",
       "      <td>93.994</td>\n",
       "      <td>-36.4</td>\n",
       "      <td>4.857</td>\n",
       "      <td>5191.0</td>\n",
       "      <td>no</td>\n",
       "    </tr>\n",
       "    <tr>\n",
       "      <th>1</th>\n",
       "      <td>57</td>\n",
       "      <td>services</td>\n",
       "      <td>married</td>\n",
       "      <td>high.school</td>\n",
       "      <td>unknown</td>\n",
       "      <td>no</td>\n",
       "      <td>no</td>\n",
       "      <td>telephone</td>\n",
       "      <td>may</td>\n",
       "      <td>mon</td>\n",
       "      <td>149</td>\n",
       "      <td>1</td>\n",
       "      <td>999</td>\n",
       "      <td>0</td>\n",
       "      <td>nonexistent</td>\n",
       "      <td>1.1</td>\n",
       "      <td>93.994</td>\n",
       "      <td>-36.4</td>\n",
       "      <td>4.857</td>\n",
       "      <td>5191.0</td>\n",
       "      <td>no</td>\n",
       "    </tr>\n",
       "    <tr>\n",
       "      <th>2</th>\n",
       "      <td>37</td>\n",
       "      <td>services</td>\n",
       "      <td>married</td>\n",
       "      <td>high.school</td>\n",
       "      <td>no</td>\n",
       "      <td>yes</td>\n",
       "      <td>no</td>\n",
       "      <td>telephone</td>\n",
       "      <td>may</td>\n",
       "      <td>mon</td>\n",
       "      <td>226</td>\n",
       "      <td>1</td>\n",
       "      <td>999</td>\n",
       "      <td>0</td>\n",
       "      <td>nonexistent</td>\n",
       "      <td>1.1</td>\n",
       "      <td>93.994</td>\n",
       "      <td>-36.4</td>\n",
       "      <td>4.857</td>\n",
       "      <td>5191.0</td>\n",
       "      <td>no</td>\n",
       "    </tr>\n",
       "    <tr>\n",
       "      <th>3</th>\n",
       "      <td>40</td>\n",
       "      <td>admin.</td>\n",
       "      <td>married</td>\n",
       "      <td>basic.6y</td>\n",
       "      <td>no</td>\n",
       "      <td>no</td>\n",
       "      <td>no</td>\n",
       "      <td>telephone</td>\n",
       "      <td>may</td>\n",
       "      <td>mon</td>\n",
       "      <td>151</td>\n",
       "      <td>1</td>\n",
       "      <td>999</td>\n",
       "      <td>0</td>\n",
       "      <td>nonexistent</td>\n",
       "      <td>1.1</td>\n",
       "      <td>93.994</td>\n",
       "      <td>-36.4</td>\n",
       "      <td>4.857</td>\n",
       "      <td>5191.0</td>\n",
       "      <td>no</td>\n",
       "    </tr>\n",
       "    <tr>\n",
       "      <th>4</th>\n",
       "      <td>56</td>\n",
       "      <td>services</td>\n",
       "      <td>married</td>\n",
       "      <td>high.school</td>\n",
       "      <td>no</td>\n",
       "      <td>no</td>\n",
       "      <td>yes</td>\n",
       "      <td>telephone</td>\n",
       "      <td>may</td>\n",
       "      <td>mon</td>\n",
       "      <td>307</td>\n",
       "      <td>1</td>\n",
       "      <td>999</td>\n",
       "      <td>0</td>\n",
       "      <td>nonexistent</td>\n",
       "      <td>1.1</td>\n",
       "      <td>93.994</td>\n",
       "      <td>-36.4</td>\n",
       "      <td>4.857</td>\n",
       "      <td>5191.0</td>\n",
       "      <td>no</td>\n",
       "    </tr>\n",
       "  </tbody>\n",
       "</table>\n",
       "</div>"
      ],
      "text/plain": [
       "   age        job  marital    education  default housing loan    contact  \\\n",
       "0   56  housemaid  married     basic.4y       no      no   no  telephone   \n",
       "1   57   services  married  high.school  unknown      no   no  telephone   \n",
       "2   37   services  married  high.school       no     yes   no  telephone   \n",
       "3   40     admin.  married     basic.6y       no      no   no  telephone   \n",
       "4   56   services  married  high.school       no      no  yes  telephone   \n",
       "\n",
       "  month day_of_week  duration  campaign  pdays  previous     poutcome  \\\n",
       "0   may         mon       261         1    999         0  nonexistent   \n",
       "1   may         mon       149         1    999         0  nonexistent   \n",
       "2   may         mon       226         1    999         0  nonexistent   \n",
       "3   may         mon       151         1    999         0  nonexistent   \n",
       "4   may         mon       307         1    999         0  nonexistent   \n",
       "\n",
       "   emp.var.rate  cons.price.idx  cons.conf.idx  euribor3m  nr.employed   y  \n",
       "0           1.1          93.994          -36.4      4.857       5191.0  no  \n",
       "1           1.1          93.994          -36.4      4.857       5191.0  no  \n",
       "2           1.1          93.994          -36.4      4.857       5191.0  no  \n",
       "3           1.1          93.994          -36.4      4.857       5191.0  no  \n",
       "4           1.1          93.994          -36.4      4.857       5191.0  no  "
      ]
     },
     "execution_count": 118,
     "metadata": {},
     "output_type": "execute_result"
    }
   ],
   "source": [
    "df.head()"
   ]
  },
  {
   "cell_type": "code",
   "execution_count": 119,
   "metadata": {},
   "outputs": [],
   "source": [
    "df.y = df.y.apply(lambda x: 1 if x == 'yes' else 0)"
   ]
  },
  {
   "cell_type": "markdown",
   "metadata": {},
   "source": [
    "__Задание 3 (0.5 балла).__ Разделите выборку на обучающую и тестовую в соотношении 3:1. Зафиксируйте `random_state=777`, также используйте `stratify`. Один из столбцов в данных не несет информации для решения задачи — какой? Отбросьте его. \n",
    "\n"
   ]
  },
  {
   "cell_type": "code",
   "execution_count": 120,
   "metadata": {},
   "outputs": [],
   "source": [
    "x_train, x_test, y_train, y_test = train_test_split(df.drop(columns=['duration', 'y']), \n",
    "                                                    df['y'], test_size=0.25, random_state=777, stratify=df.y)\n"
   ]
  },
  {
   "cell_type": "markdown",
   "metadata": {},
   "source": [
    "Закодируйте категориальные признаки с помощью `OrdinalEncoder`. Посчитайте качество (в этом задании будем работать c `AUC-PR`) при применении логистической регрессии. Замерьте время, потребовавшееся на обучение модели (с учетом кодирования признаков).\n",
    "\n",
    "__Вопрос__: почему в данном задании мы выбрали метрикой именно `AUC-PR`, а не, к примеру, `AUC-ROC`?\n",
    "\n",
    "__Ваш ответ__: рок аук сломается из-за диспаланса классов. Потому что нулевого класса оч много и даже предсказав всем нули был бы хороший алгоритм с точки зрения рок аук"
   ]
  },
  {
   "cell_type": "code",
   "execution_count": 121,
   "metadata": {},
   "outputs": [
    {
     "name": "stdout",
     "output_type": "stream",
     "text": [
      "<class 'pandas.core.frame.DataFrame'>\n",
      "RangeIndex: 41188 entries, 0 to 41187\n",
      "Data columns (total 21 columns):\n",
      " #   Column          Non-Null Count  Dtype  \n",
      "---  ------          --------------  -----  \n",
      " 0   age             41188 non-null  int64  \n",
      " 1   job             41188 non-null  object \n",
      " 2   marital         41188 non-null  object \n",
      " 3   education       41188 non-null  object \n",
      " 4   default         41188 non-null  object \n",
      " 5   housing         41188 non-null  object \n",
      " 6   loan            41188 non-null  object \n",
      " 7   contact         41188 non-null  object \n",
      " 8   month           41188 non-null  object \n",
      " 9   day_of_week     41188 non-null  object \n",
      " 10  duration        41188 non-null  int64  \n",
      " 11  campaign        41188 non-null  int64  \n",
      " 12  pdays           41188 non-null  int64  \n",
      " 13  previous        41188 non-null  int64  \n",
      " 14  poutcome        41188 non-null  object \n",
      " 15  emp.var.rate    41188 non-null  float64\n",
      " 16  cons.price.idx  41188 non-null  float64\n",
      " 17  cons.conf.idx   41188 non-null  float64\n",
      " 18  euribor3m       41188 non-null  float64\n",
      " 19  nr.employed     41188 non-null  float64\n",
      " 20  y               41188 non-null  int64  \n",
      "dtypes: float64(5), int64(6), object(10)\n",
      "memory usage: 6.6+ MB\n"
     ]
    }
   ],
   "source": [
    "df.info()"
   ]
  },
  {
   "cell_type": "code",
   "execution_count": 122,
   "metadata": {},
   "outputs": [],
   "source": [
    "columns_to_code = ['marital', 'job', 'education', 'poutcome','default', \n",
    "                   'housing', 'loan', 'contact', 'month', 'day_of_week']"
   ]
  },
  {
   "cell_type": "code",
   "execution_count": 123,
   "metadata": {},
   "outputs": [],
   "source": [
    "columns_to_scale = ['age', 'campaign', 'pdays', 'previous', 'emp.var.rate', \n",
    "                    'cons.price.idx', 'cons.conf.idx', 'euribor3m', 'nr.employed']"
   ]
  },
  {
   "cell_type": "code",
   "execution_count": 124,
   "metadata": {},
   "outputs": [
    {
     "name": "stdout",
     "output_type": "stream",
     "text": [
      "TIME =  32.65709471702576\n",
      "AUC-PR = 0.4356532841059827\n"
     ]
    },
    {
     "name": "stderr",
     "output_type": "stream",
     "text": [
      "/Users/varya/miniforge3/envs/hseml/lib/python3.9/site-packages/sklearn/linear_model/_sag.py:328: ConvergenceWarning: The max_iter was reached which means the coef_ did not converge\n",
      "  warnings.warn(\"The max_iter was reached which means \"\n"
     ]
    }
   ],
   "source": [
    "start = time.time()\n",
    "ore = OrdinalEncoder()\n",
    "\n",
    "x = x_train[columns_to_scale].reset_index().drop('index', axis=1)\n",
    "y = x_test[columns_to_scale].reset_index().drop('index', axis=1)\n",
    "\n",
    "ore_train = pd.DataFrame(ore.fit_transform(x_train[columns_to_code]))\n",
    "ore_test = pd.DataFrame(ore.transform(x_test[columns_to_code]))\n",
    "\n",
    "x_train = x.join(ore_train)\n",
    "x_test = y.join(ore_test)\n",
    "\n",
    "sgdr = LogisticRegression(fit_intercept = True, max_iter = 10000, \n",
    "                          tol=1e-5, penalty='none', solver='sag')\n",
    "sgdr.fit(x_train, y_train)\n",
    "sgdr_y_pred = sgdr.predict_proba(x_test)[:, 1]\n",
    "\n",
    "print('TIME = ', time.time() - start)\n",
    "print('AUC-PR =', average_precision_score(y_test, sgdr_y_pred))\n"
   ]
  },
  {
   "cell_type": "markdown",
   "metadata": {},
   "source": [
    "__Задание 4 (0.5 балла).__ Закодируйте все категориальные признаки с помощью one-hot-кодирования. Обучите логистическую регрессию и посмотрите, как изменилось качество модели (с тем, что было до кодирования). Измерьте время, потребовавшееся на кодирование категориальных признаков и обучение модели.\n",
    "\n"
   ]
  },
  {
   "cell_type": "code",
   "execution_count": 125,
   "metadata": {},
   "outputs": [],
   "source": [
    "df = pd.read_csv('bank-additional/bank-additional-full.csv', sep=';')\n",
    "df.y = df.y.apply(lambda x: 1 if x == 'yes' else 0)\n",
    "x_train, x_test, y_train, y_test = train_test_split(df.drop(columns=['duration', 'y']), \n",
    "                                                    df['y'], test_size=0.25, random_state=777, stratify=df.y)"
   ]
  },
  {
   "cell_type": "code",
   "execution_count": 126,
   "metadata": {},
   "outputs": [
    {
     "name": "stdout",
     "output_type": "stream",
     "text": [
      "TIME =  105.15810894966125\n",
      "AUC-PR = 0.4456223644107429\n"
     ]
    },
    {
     "name": "stderr",
     "output_type": "stream",
     "text": [
      "/Users/varya/miniforge3/envs/hseml/lib/python3.9/site-packages/sklearn/linear_model/_sag.py:328: ConvergenceWarning: The max_iter was reached which means the coef_ did not converge\n",
      "  warnings.warn(\"The max_iter was reached which means \"\n"
     ]
    }
   ],
   "source": [
    "start = time.time()\n",
    "ore = OneHotEncoder()\n",
    "\n",
    "x = x_train[columns_to_scale].reset_index().drop('index', axis=1)\n",
    "y = x_test[columns_to_scale].reset_index().drop('index', axis=1)\n",
    "\n",
    "ore_train = pd.DataFrame(ore.fit_transform(x_train[columns_to_code]).toarray())\n",
    "ore_test = pd.DataFrame(ore.transform(x_test[columns_to_code]).toarray())\n",
    "\n",
    "x_train = x.join(ore_train)\n",
    "x_test = y.join(ore_test)\n",
    "\n",
    "sgdr = LogisticRegression(fit_intercept = True, max_iter = 10000, \n",
    "                          tol=1e-5, penalty='none', solver='sag')\n",
    "sgdr.fit(x_train, y_train)\n",
    "sgdr_y_pred = sgdr.predict_proba(x_test)[:, 1]\n",
    "\n",
    "print('TIME = ', time.time() - start)\n",
    "print('AUC-PR =', average_precision_score(y_test, sgdr_y_pred))\n",
    "\n"
   ]
  },
  {
   "cell_type": "markdown",
   "metadata": {},
   "source": [
    "Как можно было заменить, one-hot-кодирование может сильно увеличивать количество признаков, что сказывается на памяти, особенно, если некоторый признак имеет большое количество значений. Эту проблему решает другой способ кодирования категориальных признаков — mean-target encoding (для простоты будем называть это счётчиками). Основная идея в том, что нам важны не сами категории, а значения целевой переменной, которые имеют объекты этой категории. Каждый категориальный признак мы заменим средним значением целевой переменной по всем объектам этой же категории:\n",
    "$$\n",
    "g_j(x, X) = \\frac{\\sum_{i=1}^{l} [f_j(x) = f_j(x_i)][y_i = +1]}{\\sum_{i=1}^{l} [f_j(x) = f_j(x_i)]}\n",
    "$$\n",
    "\n",
    "__Задание 5 (1 балл).__ Закодируйте категориальные переменные с помощью счётчиков (ровно так, как описано выше без каких-либо хитростей). Обучите логистическую регрессию и посмотрите на качество модели на тестовом множестве. Сравните время обучения с предыдущими экспериментами (с учетом кодирования признаков). Заметили ли вы что-то интересное?\n",
    "\n",
    "**Ответ**:  качество предсказаний немного ухудшилось, но при этом работает в 3 раза быстрее\n"
   ]
  },
  {
   "cell_type": "code",
   "execution_count": 66,
   "metadata": {},
   "outputs": [],
   "source": [
    "df = pd.read_csv('bank-additional/bank-additional-full.csv', sep=';')\n",
    "df.y = df.y.apply(lambda x: 1 if x == 'yes' else 0)\n",
    "x_train, x_test, y_train, y_test = train_test_split(df.drop(columns=['duration', 'y']), \n",
    "                                                    df['y'], test_size=0.25, random_state=777, stratify=df.y)"
   ]
  },
  {
   "cell_type": "code",
   "execution_count": 67,
   "metadata": {},
   "outputs": [
    {
     "name": "stdout",
     "output_type": "stream",
     "text": [
      "TIME =  35.94538187980652\n",
      "AUC-PR = 0.42532393512740757\n"
     ]
    },
    {
     "name": "stderr",
     "output_type": "stream",
     "text": [
      "/Users/varya/miniforge3/envs/hseml/lib/python3.9/site-packages/sklearn/linear_model/_sag.py:328: ConvergenceWarning: The max_iter was reached which means the coef_ did not converge\n",
      "  warnings.warn(\"The max_iter was reached which means \"\n"
     ]
    }
   ],
   "source": [
    "start = time.time()\n",
    "categories = dict()\n",
    "for category in columns_to_code:\n",
    "    val_dict = dict()\n",
    "    for name in  pd.unique(x_train[category]):\n",
    "        new_val = ((x_train[category] == name) & (y_train == 1)).sum() / ((x_train[category] == name).sum() + 1)\n",
    "        val_dict[name] = new_val\n",
    "    categories[category] = val_dict\n",
    "\n",
    "for category in columns_to_code:\n",
    "    x_train[category] = x_train[category].apply(lambda x: categories[category].get(x, 0))\n",
    "    x_test[category] = x_test[category].apply(lambda x: categories[category].get(x, 0))\n",
    "\n",
    "    \n",
    "sgdr = LogisticRegression(fit_intercept = True, max_iter = 10000, \n",
    "                          tol=1e-5, penalty='none', solver='sag')\n",
    "sgdr.fit(x_train, y_train)\n",
    "\n",
    "\n",
    "sgdr_y_pred = sgdr.predict_proba(x_test)[:, 1]\n",
    "\n",
    "print('TIME = ', time.time() - start)\n",
    "print('AUC-PR =', average_precision_score(y_test, sgdr_y_pred))"
   ]
  },
  {
   "cell_type": "code",
   "execution_count": 68,
   "metadata": {},
   "outputs": [
    {
     "name": "stdout",
     "output_type": "stream",
     "text": [
      "AUC-PR = 0.4183700133019832\n"
     ]
    }
   ],
   "source": [
    "sgdr_x_pred = sgdr.predict_proba(x_train)[:, 1]\n",
    "print('AUC-PR =', average_precision_score(y_train, sgdr_x_pred))"
   ]
  },
  {
   "cell_type": "markdown",
   "metadata": {},
   "source": [
    "__Бонус (1 балл)__: Здесь и далее реализуйте вычисление счетчиков с помощью трансформера (наследуйтесь от классов `BaseEstimator, TransformerMixin` из `sklearn.base`). Обратите внимание, что все вычисления должны быть векторизованными, трансформер не должен модифицировать передаваемую ему выборку inplace, а все необходимые статистики нужно считать только по обучающей выборке в методе `fit`. Ваш трансформер должен принимать при инициализации список из категориальных признаков и изменять только их. "
   ]
  },
  {
   "cell_type": "code",
   "execution_count": 69,
   "metadata": {},
   "outputs": [],
   "source": [
    "from sklearn.base import BaseEstimator, TransformerMixin"
   ]
  },
  {
   "cell_type": "code",
   "execution_count": 70,
   "metadata": {},
   "outputs": [],
   "source": [
    "class MyEncoder(BaseEstimator, TransformerMixin):\n",
    "    def __init__(self, columns_to_code, noise=1e-3):\n",
    "        self.columns_to_code = columns_to_code\n",
    "        self.noise = noise\n",
    "        \n",
    "    def fit(self, x, y):\n",
    "        self.categories = dict()\n",
    "        for category in self.columns_to_code:\n",
    "            val_dict = dict()\n",
    "            for name in  pd.unique(x[category]):\n",
    "                new_val = ((x[category] == name) & (y == 1)).sum() / ((x[category] == name).sum())\n",
    "                val_dict[name] = new_val + np.random.randn() * self.noise\n",
    "            self.categories[category] = val_dict\n",
    "        return self\n",
    "        \n",
    "    def transform(self, x):\n",
    "        for category in self.columns_to_code:\n",
    "            x[category] = x[category].apply(lambda x: self.categories[category].get(x, 0))\n",
    "        return x\n",
    "        "
   ]
  },
  {
   "cell_type": "markdown",
   "metadata": {},
   "source": [
    "Отметим, что такие признаки сами по себе являются классификаторами и, обучаясь на них, мы допускаем \"утечку\" целевой переменной в признаки. Это ведёт к переобучению, поэтому считать такие признаки необходимо таким образом, чтобы при вычислении для конкретного объекта его целевая метка не использовалась. Это можно делать следующими способами:\n",
    "1. Вычислять значение счётчика по всем объектам расположенным выше в датасете (например, если у нас выборка отсортирована по времени).\n",
    "2. Вычислять по фолдам, то есть делить выборку на некоторое количество частей и подсчитывать значение признаков по всем фолдам кроме текущего (как делается в кросс-валидации).\n",
    "3. Внесение некоторого шума в посчитанные признаки. \n",
    "\n",
    "__Задание 6.__ Реализуйте корректное вычисление счётчиков самым простым способом — добавление шума к значениям (постарайтесь найти баланс между борьбой с переобучением и сохранением полезности признаков). Снова обучите логистическую регрессию, оцените качество. Сделайте выводы.\n",
    "\n",
    "**Ответ**:\n",
    "\n",
    "\n",
    "\n",
    "__(0.5 балла)__"
   ]
  },
  {
   "cell_type": "code",
   "execution_count": 71,
   "metadata": {},
   "outputs": [],
   "source": [
    "df = pd.read_csv('bank-additional/bank-additional-full.csv', sep=';')\n",
    "df.y = df.y.apply(lambda x: 1 if x == 'yes' else 0)\n",
    "x_train, x_test, y_train, y_test = train_test_split(df.drop(columns=['duration', 'y']), \n",
    "                                                    df['y'], test_size=0.25, random_state=777, stratify=df.y)"
   ]
  },
  {
   "cell_type": "code",
   "execution_count": 72,
   "metadata": {},
   "outputs": [],
   "source": [
    "class MyEncoder(BaseEstimator, TransformerMixin):\n",
    "    def __init__(self, columns_to_code, noise):\n",
    "        self.columns_to_code = columns_to_code\n",
    "        self.noise = noise\n",
    "        \n",
    "    def fit(self, x, y):\n",
    "        self.categories = dict()\n",
    "        for category in self.columns_to_code:\n",
    "            val_dict = dict()\n",
    "            for name in  pd.unique(x[category]):\n",
    "                new_val = ((x[category] == name) & (y == 1)).sum() / ((x[category] == name).sum() + 1)\n",
    "                val_dict[name] = new_val + np.random.randn() * self.noise\n",
    "            self.categories[category] = val_dict\n",
    "        return self\n",
    "        \n",
    "    def transform(self, x):\n",
    "        for category in self.columns_to_code:\n",
    "            x[category] = x[category].apply(lambda x: self.categories[category].get(x, 0))\n",
    "        return x\n",
    "        "
   ]
  },
  {
   "cell_type": "code",
   "execution_count": 73,
   "metadata": {},
   "outputs": [],
   "source": [
    "cntr = MyEncoder(columns_to_code, 0.5)"
   ]
  },
  {
   "cell_type": "code",
   "execution_count": 74,
   "metadata": {},
   "outputs": [
    {
     "name": "stdout",
     "output_type": "stream",
     "text": [
      "TIME =  36.866886138916016\n",
      "AUC-PR = 0.42639610749831924\n"
     ]
    },
    {
     "name": "stderr",
     "output_type": "stream",
     "text": [
      "/Users/varya/miniforge3/envs/hseml/lib/python3.9/site-packages/sklearn/linear_model/_sag.py:328: ConvergenceWarning: The max_iter was reached which means the coef_ did not converge\n",
      "  warnings.warn(\"The max_iter was reached which means \"\n"
     ]
    }
   ],
   "source": [
    "start = time.time()\n",
    "cntr.fit(x_train, y_train)\n",
    "x_train = cntr.transform(x_train)\n",
    "x_test = cntr.transform(x_test)\n",
    "\n",
    "sgdr = LogisticRegression(fit_intercept = True, max_iter = 10000, \n",
    "                          tol=1e-5, penalty='none', solver='sag')\n",
    "sgdr.fit(x_train, y_train)\n",
    "\n",
    "\n",
    "sgdr_y_pred = sgdr.predict_proba(x_test)[:, 1]\n",
    "\n",
    "print('TIME = ', time.time() - start)\n",
    "print('AUC-PR =', average_precision_score(y_test, sgdr_y_pred))"
   ]
  },
  {
   "cell_type": "code",
   "execution_count": 75,
   "metadata": {},
   "outputs": [
    {
     "name": "stdout",
     "output_type": "stream",
     "text": [
      "AUC-PR = 0.4236316978819998\n"
     ]
    }
   ],
   "source": [
    "sgdr_x_pred = sgdr.predict_proba(x_train)[:, 1]\n",
    "print('AUC-PR =', average_precision_score(y_train, sgdr_x_pred))"
   ]
  },
  {
   "cell_type": "markdown",
   "metadata": {},
   "source": [
    "__(Бонусная часть, 0.5 балла)__ Посчитайте корректные счётчики первым или вторым способов из описанных выше (не забудьте добавить и шум). \n",
    "\n"
   ]
  },
  {
   "cell_type": "code",
   "execution_count": 139,
   "metadata": {},
   "outputs": [],
   "source": [
    "#your code here"
   ]
  },
  {
   "cell_type": "markdown",
   "metadata": {},
   "source": [
    "А теперь ответьте на следующий вопрос: что будет, если некоторая категория встречается в выборке всего несколько раз? По этой причине производится сглаживание счётчиков. Например, на практике хорошие результаты показывает использование сглаживания средним по всей выборке:\n",
    "$$\n",
    "g_j(x, X) = \\frac{\\sum_{i=1}^{\\ell} [f_j(x) = f_j(x_i)][y_i = +1] + C \\times global\\_mean}{\\sum_{i=1}^{\\ell} [f_j(x) = f_j(x_i)] + C}\n",
    "$$\n",
    "где $global\\_mean$ — доля объектов положительного класса в выборке, $C$ — параметр, определяющий степень сглаживания (например, можно использовать 10 или подобрать для каждого признака свой). Основная идея в том, что мы \"разбавляем\" среднее значение по некоторой категории глобальным средним значением. И тем меньше, чем большее количество объектов этой категории встречается в выборке. \n",
    "\n",
    "Однако для сглаживания вместо среднего значения целевой переменной можно использовать любое другое значение от 0 до 1 (этот параметр иногда называют $prior$). Можно сделать несколько признаков с разными значениями параметра. На практике в задачах бинарной классификации полезными бывают даже отрицательные значения!\n"
   ]
  },
  {
   "cell_type": "markdown",
   "metadata": {},
   "source": [
    "__Задание 7 (1 балл).__ Добавьте сглаживание, описанное выше и повторите эксперименты."
   ]
  },
  {
   "cell_type": "code",
   "execution_count": 76,
   "metadata": {},
   "outputs": [],
   "source": [
    "df = pd.read_csv('bank-additional/bank-additional-full.csv', sep=';')\n",
    "df.y = df.y.apply(lambda x: 1 if x == 'yes' else 0)\n",
    "x_train, x_test, y_train, y_test = train_test_split(df.drop(columns=['duration', 'y']), \n",
    "                                                    df['y'], test_size=0.25, random_state=777, stratify=df.y)"
   ]
  },
  {
   "cell_type": "code",
   "execution_count": 77,
   "metadata": {},
   "outputs": [],
   "source": [
    "class MyEncoder(BaseEstimator, TransformerMixin):\n",
    "    def __init__(self, columns_to_code, noise, smoth):\n",
    "        self.columns_to_code = columns_to_code\n",
    "        self.noise = noise\n",
    "        self.smoth = smoth\n",
    "        \n",
    "    def fit(self, x, y):\n",
    "        self.categories = dict()\n",
    "        for category in self.columns_to_code:\n",
    "            val_dict = dict()\n",
    "            for name in  pd.unique(x[category]):\n",
    "                new_val = (((x[category] == name) & (y == 1)).sum() + self.smoth * np.mean(y)) / \\\n",
    "                ((x[category] == name).sum() + 1 + self.smoth)\n",
    "                val_dict[name] = new_val + np.random.randn() * self.noise\n",
    "            self.categories[category] = val_dict\n",
    "        return self\n",
    "        \n",
    "    def transform(self, x):\n",
    "        for category in self.columns_to_code:\n",
    "            x[category] = x[category].apply(lambda x: self.categories[category].get(x, 0))\n",
    "        return x"
   ]
  },
  {
   "cell_type": "code",
   "execution_count": 78,
   "metadata": {},
   "outputs": [
    {
     "name": "stdout",
     "output_type": "stream",
     "text": [
      "TIME =  34.00833296775818\n",
      "AUC-PR = 0.4326335936405939\n"
     ]
    },
    {
     "name": "stderr",
     "output_type": "stream",
     "text": [
      "/Users/varya/miniforge3/envs/hseml/lib/python3.9/site-packages/sklearn/linear_model/_sag.py:328: ConvergenceWarning: The max_iter was reached which means the coef_ did not converge\n",
      "  warnings.warn(\"The max_iter was reached which means \"\n"
     ]
    }
   ],
   "source": [
    "cntr = MyEncoder(columns_to_code, 0.5, 10)\n",
    "\n",
    "start = time.time()\n",
    "cntr.fit(x_train, y_train)\n",
    "x_train = cntr.transform(x_train)\n",
    "x_test = cntr.transform(x_test)\n",
    "\n",
    "sgdr = LogisticRegression(fit_intercept = True, max_iter = 10000, \n",
    "                          tol=1e-5, penalty='none', solver='sag')\n",
    "sgdr.fit(x_train, y_train)\n",
    "\n",
    "\n",
    "sgdr_y_pred = sgdr.predict_proba(x_test)[:, 1]\n",
    "\n",
    "print('TIME = ', time.time() - start)\n",
    "print('AUC-PR =', average_precision_score(y_test, sgdr_y_pred))"
   ]
  },
  {
   "cell_type": "code",
   "execution_count": 79,
   "metadata": {},
   "outputs": [
    {
     "name": "stdout",
     "output_type": "stream",
     "text": [
      "AUC-PR = 0.425921976808806\n"
     ]
    }
   ],
   "source": [
    "sgdr_x_pred = sgdr.predict_proba(x_train)[:, 1]\n",
    "print('AUC-PR =', average_precision_score(y_train, sgdr_x_pred))"
   ]
  },
  {
   "cell_type": "markdown",
   "metadata": {},
   "source": [
    "__Задание 8 (0.5 балла).__ В данных имеется признак \"возраст клиента\". Сейчас мы интерпретируем его как числовой, что в общем случае для линейной модели может быть неверной гипотезой. Тем не менее, у этого признака есть довольно много уникальных значений (сколько?), поэтому применять к нему one-hot кодирование может оказаться излишним. Попробуйте закодировать возраст с помощью счетчиков. Стало ли лучше?\n",
    "\n"
   ]
  },
  {
   "cell_type": "code",
   "execution_count": 80,
   "metadata": {},
   "outputs": [
    {
     "data": {
      "text/plain": [
       "array([56, 57, 37, 40, 45, 59, 41, 24, 25, 29, 35, 54, 46, 50, 39, 30, 55,\n",
       "       49, 34, 52, 58, 32, 38, 44, 42, 60, 53, 47, 51, 48, 33, 31, 43, 36,\n",
       "       28, 27, 26, 22, 23, 20, 21, 61, 19, 18, 70, 66, 76, 67, 73, 88, 95,\n",
       "       77, 68, 75, 63, 80, 62, 65, 72, 82, 64, 71, 69, 78, 85, 79, 83, 81,\n",
       "       74, 17, 87, 91, 86, 98, 94, 84, 92, 89])"
      ]
     },
     "execution_count": 80,
     "metadata": {},
     "output_type": "execute_result"
    }
   ],
   "source": [
    "df.age.unique()"
   ]
  },
  {
   "cell_type": "code",
   "execution_count": 81,
   "metadata": {},
   "outputs": [
    {
     "data": {
      "text/plain": [
       "78"
      ]
     },
     "execution_count": 81,
     "metadata": {},
     "output_type": "execute_result"
    }
   ],
   "source": [
    "len(df.age.unique())"
   ]
  },
  {
   "cell_type": "code",
   "execution_count": 82,
   "metadata": {},
   "outputs": [],
   "source": [
    "columns_to_code.append('age')"
   ]
  },
  {
   "cell_type": "code",
   "execution_count": 83,
   "metadata": {},
   "outputs": [],
   "source": [
    "df = pd.read_csv('bank-additional/bank-additional-full.csv', sep=';')\n",
    "df.y = df.y.apply(lambda x: 1 if x == 'yes' else 0)\n",
    "x_train, x_test, y_train, y_test = train_test_split(df.drop(columns=['duration', 'y']), \n",
    "                                                    df['y'], test_size=0.25, random_state=777, stratify=df.y)"
   ]
  },
  {
   "cell_type": "code",
   "execution_count": 84,
   "metadata": {},
   "outputs": [
    {
     "name": "stdout",
     "output_type": "stream",
     "text": [
      "TIME =  33.21409773826599\n",
      "AUC-PR = 0.43355662138176165\n"
     ]
    },
    {
     "name": "stderr",
     "output_type": "stream",
     "text": [
      "/Users/varya/miniforge3/envs/hseml/lib/python3.9/site-packages/sklearn/linear_model/_sag.py:328: ConvergenceWarning: The max_iter was reached which means the coef_ did not converge\n",
      "  warnings.warn(\"The max_iter was reached which means \"\n"
     ]
    }
   ],
   "source": [
    "cntr = MyEncoder(columns_to_code, 0.5, 10)\n",
    "\n",
    "start = time.time()\n",
    "cntr.fit(x_train, y_train)\n",
    "x_train = cntr.transform(x_train)\n",
    "x_test = cntr.transform(x_test)\n",
    "\n",
    "sgdr = LogisticRegression(fit_intercept = True, max_iter = 10000, \n",
    "                          tol=1e-5, penalty='none', solver='sag')\n",
    "sgdr.fit(x_train, y_train)\n",
    "\n",
    "\n",
    "sgdr_y_pred = sgdr.predict_proba(x_test)[:, 1]\n",
    "\n",
    "print('TIME = ', time.time() - start)\n",
    "print('AUC-PR =', average_precision_score(y_test, sgdr_y_pred))"
   ]
  },
  {
   "cell_type": "code",
   "execution_count": 85,
   "metadata": {},
   "outputs": [
    {
     "name": "stdout",
     "output_type": "stream",
     "text": [
      "AUC-PR = 0.4300842365773292\n"
     ]
    }
   ],
   "source": [
    "sgdr_x_pred = sgdr.predict_proba(x_train)[:, 1]\n",
    "print('AUC-PR =', average_precision_score(y_train, sgdr_x_pred))"
   ]
  },
  {
   "cell_type": "markdown",
   "metadata": {},
   "source": [
    "**Ответ**: стало хуже"
   ]
  },
  {
   "cell_type": "markdown",
   "metadata": {},
   "source": [
    "Можно пойти и в обратную сторону. У нас есть признаки \"месяц и день недели\" для звонка. Попробуйте интерпретировать их как числовые (месяц от 0 до 12, дни недели от 0 до 4). Стало ли лучше в этот раз?"
   ]
  },
  {
   "cell_type": "code",
   "execution_count": 86,
   "metadata": {},
   "outputs": [],
   "source": [
    "columns_to_code.remove('age')"
   ]
  },
  {
   "cell_type": "code",
   "execution_count": 90,
   "metadata": {},
   "outputs": [],
   "source": [
    "import calendar\n",
    "\n",
    "df = pd.read_csv('bank-additional/bank-additional-full.csv', sep=';')\n",
    "df.y = df.y.apply(lambda x: 1 if x == 'yes' else 0)\n",
    "\n",
    "m = {month.lower(): index - 1 for index, month in enumerate(calendar.month_abbr) if month}\n",
    "w = dict(zip(calendar.weekheader(3).lower().split(' '), range(7)))\n",
    "n = df.copy()\n",
    "for month in pd.unique(df['month']):\n",
    "    df.loc[df['month'] == month, 'month'] = m[month]\n",
    "\n",
    "for wday in pd.unique(df['day_of_week']):\n",
    "    df.loc[df['day_of_week'] == wday, 'day_of_week'] = w[wday]\n",
    "\n",
    "x_train, x_test, y_train, y_test = train_test_split(df.drop(columns=['duration', 'y']), \n",
    "                                                    df['y'], test_size=0.25, random_state=777, stratify=df.y)"
   ]
  },
  {
   "cell_type": "code",
   "execution_count": 91,
   "metadata": {},
   "outputs": [
    {
     "name": "stdout",
     "output_type": "stream",
     "text": [
      "TIME =  34.72768211364746\n",
      "AUC-PR = 0.4276137047938115\n"
     ]
    },
    {
     "name": "stderr",
     "output_type": "stream",
     "text": [
      "/Users/varya/miniforge3/envs/hseml/lib/python3.9/site-packages/sklearn/linear_model/_sag.py:328: ConvergenceWarning: The max_iter was reached which means the coef_ did not converge\n",
      "  warnings.warn(\"The max_iter was reached which means \"\n"
     ]
    }
   ],
   "source": [
    "cntr = MyEncoder(columns_to_code, 0.5, 10)\n",
    "\n",
    "start = time.time()\n",
    "cntr.fit(x_train, y_train)\n",
    "x_train = cntr.transform(x_train)\n",
    "x_test = cntr.transform(x_test)\n",
    "\n",
    "sgdr = LogisticRegression(fit_intercept = True, max_iter = 10000, \n",
    "                          tol=1e-5, penalty='none', solver='sag')\n",
    "sgdr.fit(x_train, y_train)\n",
    "\n",
    "\n",
    "sgdr_y_pred = sgdr.predict_proba(x_test)[:, 1]\n",
    "\n",
    "print('TIME = ', time.time() - start)\n",
    "print('AUC-PR =', average_precision_score(y_test, sgdr_y_pred))"
   ]
  },
  {
   "cell_type": "code",
   "execution_count": 92,
   "metadata": {},
   "outputs": [
    {
     "name": "stdout",
     "output_type": "stream",
     "text": [
      "AUC-PR = 0.4261603341966863\n"
     ]
    }
   ],
   "source": [
    "sgdr_x_pred = sgdr.predict_proba(x_train)[:, 1]\n",
    "print('AUC-PR =', average_precision_score(y_train, sgdr_x_pred))"
   ]
  },
  {
   "cell_type": "markdown",
   "metadata": {},
   "source": [
    "**Ответ**:да, стало"
   ]
  },
  {
   "cell_type": "markdown",
   "metadata": {},
   "source": [
    "__Замечание.__ Усложнение методов вычисления счётчиков не делают результаты модели гарантированно лучше. Особенно с учётом того, что логистическая регрессия не такая сложная модель, чтобы переобучаться. Поэтому вы необязательно должны были получать на каждом шаге всё лучшие и лучшие результаты (но необходимые результаты у вас должны были получиться).\n",
    "\n",
    "Как вы должны были заметить, счётчики являются хорошей альтернативой one-hot-кодированию. Напишите, какие плюсы и минусы использования счётчиков по сравнению с one-hot-кодированием вы заметили.\n",
    "\n",
    "__Ответ:__ \n",
    "Плюсы: \n",
    "1) несут в себе больше информации о значениях таргета\n",
    "\n",
    "2) не увеличивают количество признаков\n",
    "\n",
    "Минусы:\n",
    "\n",
    "1) возможно переобучение\n"
   ]
  },
  {
   "cell_type": "markdown",
   "metadata": {},
   "source": [
    "# Часть 2. Отбор признаков"
   ]
  },
  {
   "cell_type": "markdown",
   "metadata": {},
   "source": [
    "Важной частью процесса построения модели является отбор признаков. На практике многие признаки оказывают малое влияние на модель (при этом их расчёт занимает время) или даже негативно сказываются на качестве модели. Попробуем несколько подходов отбора признаков, оценим, как они влияют на качество модели и сколько времени занимают.\n",
    "\n",
    "Обратимся к тем же данным про банковский телефонный маркетинг."
   ]
  },
  {
   "cell_type": "code",
   "execution_count": 154,
   "metadata": {},
   "outputs": [],
   "source": [
    "df = pd.read_csv('bank-additional/bank-additional-full.csv', sep=';')\n",
    "\n",
    "X = df.drop(columns=['duration', 'y'])\n",
    "y = (df.y == 'yes')\n",
    "\n",
    "x_train, x_test, y_train, y_test = train_test_split(X, y, test_size=0.2, random_state=777, stratify=y)"
   ]
  },
  {
   "cell_type": "markdown",
   "metadata": {},
   "source": [
    "Как вы помните, в данных много категориальных признаков (сейчас давайте интерпретировать возраст как числовой). Давайте закодируем их с помощью one-hot кодирования. Исходные колонки с категориальными признаками можно удалить. Сколько признаков мы получили?"
   ]
  },
  {
   "cell_type": "code",
   "execution_count": 155,
   "metadata": {},
   "outputs": [
    {
     "name": "stdout",
     "output_type": "stream",
     "text": [
      "TIME =  103.78445434570312\n",
      "AUC-PR = 0.44415382560002703\n"
     ]
    },
    {
     "name": "stderr",
     "output_type": "stream",
     "text": [
      "/Users/varya/miniforge3/envs/hseml/lib/python3.9/site-packages/sklearn/linear_model/_sag.py:328: ConvergenceWarning: The max_iter was reached which means the coef_ did not converge\n",
      "  warnings.warn(\"The max_iter was reached which means \"\n"
     ]
    }
   ],
   "source": [
    "start = time.time()\n",
    "ore = OneHotEncoder()\n",
    "\n",
    "x = x_train[columns_to_scale].reset_index().drop('index', axis=1)\n",
    "y = x_test[columns_to_scale].reset_index().drop('index', axis=1)\n",
    "\n",
    "ore_train = pd.DataFrame(ore.fit_transform(x_train[columns_to_code]).toarray())\n",
    "ore_test = pd.DataFrame(ore.transform(x_test[columns_to_code]).toarray())\n",
    "\n",
    "x_train = x.join(ore_train)\n",
    "x_test = y.join(ore_test)\n",
    "\n",
    "sgdr = LogisticRegression(fit_intercept = True, max_iter = 10000, \n",
    "                          tol=1e-5, penalty='none', solver='sag')\n",
    "sgdr.fit(x_train, y_train)\n",
    "sgdr_y_pred = sgdr.predict_proba(x_test)[:, 1]\n",
    "\n",
    "print('TIME = ', time.time() - start)\n",
    "print('AUC-PR =', average_precision_score(y_test, sgdr_y_pred))"
   ]
  },
  {
   "cell_type": "code",
   "execution_count": 156,
   "metadata": {},
   "outputs": [
    {
     "data": {
      "text/plain": [
       "(32950, 62)"
      ]
     },
     "execution_count": 156,
     "metadata": {},
     "output_type": "execute_result"
    }
   ],
   "source": [
    "x_train.shape"
   ]
  },
  {
   "cell_type": "markdown",
   "metadata": {},
   "source": [
    "В качестве основной модели будем использовать логистическую регрессию, а целевой метрики — `AUC-PR`. Обучите модель и посчитайте качество на тестовой выборке. Давайте запомним полученное значение."
   ]
  },
  {
   "cell_type": "code",
   "execution_count": 157,
   "metadata": {},
   "outputs": [
    {
     "name": "stdout",
     "output_type": "stream",
     "text": [
      "0.44415382560002703\n"
     ]
    }
   ],
   "source": [
    "test_score = average_precision_score(y_test, sgdr_y_pred)\n",
    "print(test_score)"
   ]
  },
  {
   "cell_type": "markdown",
   "metadata": {},
   "source": [
    "### Встроенные методы"
   ]
  },
  {
   "cell_type": "markdown",
   "metadata": {},
   "source": [
    "Допустим, мы хотим оставить только 40 лучших признаков. Попробуем сделать это несколькими способами.\n",
    "\n",
    "Начнём с отборам признаков с помощью линейной модели. Как известно, веса линейной модели означают вклад каждого признака в предсказание модели, а значит, модуль этого вклада можно интерпретировать как важность признаков. Такой метод отбора называются встроенным или embedded method, так как он заложен в особенности модели.\n",
    "\n",
    "__Задание 8 (0.5 балла).__ Оставьте 40 признаков с наибольшим модулем соответствующего параметра линейной модели. Обучите модели заново и оцените её качество. Замерьте скорость такого отбора признаков.\n",
    "\n",
    "109 секунд + ячейки 158-160(мнгновенно)\n",
    "\n",
    "Изменилось ли качество? Как?\n",
    "\n"
   ]
  },
  {
   "cell_type": "code",
   "execution_count": 158,
   "metadata": {},
   "outputs": [],
   "source": [
    "best_features = np.abs(sgdr.coef_[0]).argsort()[-40:]"
   ]
  },
  {
   "cell_type": "code",
   "execution_count": 159,
   "metadata": {},
   "outputs": [
    {
     "data": {
      "text/plain": [
       "40"
      ]
     },
     "execution_count": 159,
     "metadata": {},
     "output_type": "execute_result"
    }
   ],
   "source": [
    "len(np.unique(best_features))"
   ]
  },
  {
   "cell_type": "code",
   "execution_count": 160,
   "metadata": {},
   "outputs": [],
   "source": [
    "x_train_bf = x_train.iloc[:, best_features]\n",
    "x_test_bf = x_test.iloc[:, best_features]"
   ]
  },
  {
   "cell_type": "code",
   "execution_count": 161,
   "metadata": {},
   "outputs": [
    {
     "name": "stdout",
     "output_type": "stream",
     "text": [
      "TIME =  69.47633814811707\n",
      "AUC-PR = 0.44688631434749176\n"
     ]
    },
    {
     "name": "stderr",
     "output_type": "stream",
     "text": [
      "/Users/varya/miniforge3/envs/hseml/lib/python3.9/site-packages/sklearn/linear_model/_sag.py:328: ConvergenceWarning: The max_iter was reached which means the coef_ did not converge\n",
      "  warnings.warn(\"The max_iter was reached which means \"\n"
     ]
    }
   ],
   "source": [
    "start = time.time()\n",
    "\n",
    "best_features = np.abs(sgdr.coef_[0]).argsort()[-40:]\n",
    "\n",
    "\n",
    "sgdr = LogisticRegression(fit_intercept = True, max_iter = 10000, \n",
    "                          tol=1e-5, penalty='none', solver='sag')\n",
    "sgdr.fit(x_train_bf, y_train)\n",
    "sgdr_y_pred = sgdr.predict_proba(x_test_bf)[:, 1]\n",
    "\n",
    "print('TIME = ', time.time() - start)\n",
    "print('AUC-PR =', average_precision_score(y_test, sgdr_y_pred))"
   ]
  },
  {
   "cell_type": "markdown",
   "metadata": {},
   "source": [
    "А теперь давайте подумаем, что мы не учли. Мы предположили, что признаки вносят вклад равномерно, но не учли их масштаба. Если мы умножим один из признаков в 100 раз, то без учёта регуляризации его вес уменьшится в эти же 100 раз. А мы на основе этого отбираем признаки! Давайте сначала отмасштабируем признаки одним из способов, а только потом будем удалять признаки. \n",
    "\n",
    "Кстати, в таком случае надо пересчитать качество на всех признаках (сделайте это ниже). Если вы сделали нормирование признаков в самом начале, то попробуйте отобрать признаки на неотмасштабированных данных.\n",
    "\n",
    "Что получилось?"
   ]
  },
  {
   "cell_type": "code",
   "execution_count": 162,
   "metadata": {},
   "outputs": [],
   "source": [
    "df = pd.read_csv('bank-additional/bank-additional-full.csv', sep=';')\n",
    "\n",
    "X = df.drop(columns=['duration', 'y'])\n",
    "y = (df.y == 'yes')\n",
    "\n",
    "x_train, x_test, y_train, y_test = train_test_split(X, y, test_size=0.2, random_state=777, stratify=y)"
   ]
  },
  {
   "cell_type": "code",
   "execution_count": 5,
   "metadata": {},
   "outputs": [],
   "source": [
    "columns_to_scale = ['age', 'campaign', 'pdays', 'previous', 'emp.var.rate', \n",
    "                    'cons.price.idx', 'cons.conf.idx', 'euribor3m', 'nr.employed']\n",
    "columns_to_code = ['marital', 'job', 'education', 'poutcome','default', \n",
    "                   'housing', 'loan', 'contact', 'month', 'day_of_week']"
   ]
  },
  {
   "cell_type": "code",
   "execution_count": 164,
   "metadata": {},
   "outputs": [
    {
     "name": "stderr",
     "output_type": "stream",
     "text": [
      "/Users/varya/miniforge3/envs/hseml/lib/python3.9/site-packages/sklearn/linear_model/_sag.py:328: ConvergenceWarning: The max_iter was reached which means the coef_ did not converge\n",
      "  warnings.warn(\"The max_iter was reached which means \"\n"
     ]
    },
    {
     "name": "stdout",
     "output_type": "stream",
     "text": [
      "TIME =  241.0103099346161\n",
      "AUC-PR = 0.44405606827384775\n"
     ]
    },
    {
     "name": "stderr",
     "output_type": "stream",
     "text": [
      "/Users/varya/miniforge3/envs/hseml/lib/python3.9/site-packages/sklearn/linear_model/_sag.py:328: ConvergenceWarning: The max_iter was reached which means the coef_ did not converge\n",
      "  warnings.warn(\"The max_iter was reached which means \"\n"
     ]
    }
   ],
   "source": [
    "stsc = StandardScaler()\n",
    "ohe = OneHotEncoder()\n",
    "\n",
    "\n",
    "StandardScal1 = pd.DataFrame(stsc.fit_transform(x_train[columns_to_scale]))\n",
    "StandardScal1.columns = columns_to_scale\n",
    "\n",
    "StandardScal2 = pd.DataFrame(stsc.transform(x_test[columns_to_scale]))\n",
    "StandardScal2.columns = columns_to_scale\n",
    "\n",
    "ohe_h = pd.DataFrame(ohe.fit_transform(x_train[columns_to_code]).toarray())\n",
    "ohe_test = pd.DataFrame(ohe.transform(x_test[columns_to_code]).toarray())\n",
    "\n",
    "x_train = StandardScal1.join(ohe_h)\n",
    "x_test = StandardScal2.join(ohe_test)\n",
    "\n",
    "\n",
    "sgdr = LogisticRegression(fit_intercept = True, max_iter = 10000, \n",
    "                          tol=1e-5, penalty='none', solver='sag')\n",
    "sgdr.fit(x_train, y_train)\n",
    "\n",
    "\n",
    "best_features = np.abs(sgdr.coef_[0]).argsort()[-40:]\n",
    "x_train_bf = x_train.iloc[:, best_features]\n",
    "x_test_bf = x_test.iloc[:, best_features]\n",
    "\n",
    "\n",
    "best_features = np.abs(sgdr.coef_[0]).argsort()[-40:]\n",
    "\n",
    "\n",
    "sgdr = LogisticRegression(fit_intercept = True, max_iter = 10000, \n",
    "                          tol=1e-5, penalty='none', solver='sag')\n",
    "sgdr.fit(x_train_bf, y_train)\n",
    "sgdr_y_pred = sgdr.predict_proba(x_test_bf)[:, 1]\n",
    "\n",
    "print('TIME = ', time.time() - start)\n",
    "print('AUC-PR =', average_precision_score(y_test, sgdr_y_pred))"
   ]
  },
  {
   "cell_type": "code",
   "execution_count": 165,
   "metadata": {},
   "outputs": [
    {
     "data": {
      "text/plain": [
       "array([ 2,  4,  5,  7,  8,  9, 10, 11, 14, 16, 18, 23, 25, 27, 28, 29, 30,\n",
       "       33, 34, 36, 37, 38, 39, 40, 41, 42, 43, 44, 46, 47, 48, 49, 50, 51,\n",
       "       52, 53, 54, 55, 57, 58])"
      ]
     },
     "execution_count": 165,
     "metadata": {},
     "output_type": "execute_result"
    }
   ],
   "source": [
    "best_features.sort()\n",
    "best_features"
   ]
  },
  {
   "cell_type": "markdown",
   "metadata": {},
   "source": [
    "Качество незначительно ухудшилось, по факту не изменилось"
   ]
  },
  {
   "cell_type": "markdown",
   "metadata": {},
   "source": [
    "Вопрос на засыпку: one-hot кодирование возвращает нам единичные признаки-индикаторы. Попробуйте также отскалировать их, как и обычные числовые, и снова выбрать 40 главных по вкладу признаков. Изменился ли их список? Изменится ли качество?"
   ]
  },
  {
   "cell_type": "code",
   "execution_count": 166,
   "metadata": {},
   "outputs": [],
   "source": [
    "df = pd.read_csv('bank-additional/bank-additional-full.csv', sep=';')\n",
    "\n",
    "X = df.drop(columns=['duration', 'y'])\n",
    "y = (df.y == 'yes')\n",
    "\n",
    "x_train, x_test, y_train, y_test = train_test_split(X, y, test_size=0.2, random_state=777, stratify=y)"
   ]
  },
  {
   "cell_type": "code",
   "execution_count": 167,
   "metadata": {},
   "outputs": [
    {
     "name": "stdout",
     "output_type": "stream",
     "text": [
      "TIME =  265.39708614349365\n",
      "AUC-PR = 0.4440904029935622\n"
     ]
    }
   ],
   "source": [
    "stsc = StandardScaler()\n",
    "ohe = OneHotEncoder()\n",
    "\n",
    "\n",
    "ohe_h = pd.DataFrame(ohe.fit_transform(x_train[columns_to_code]).toarray())\n",
    "ohe_test = pd.DataFrame(ohe.transform(x_test[columns_to_code]).toarray())\n",
    "\n",
    "x_train = x_train[columns_to_scale].reset_index().drop('index', axis=1)\n",
    "x_test = x_test[columns_to_scale].reset_index().drop('index', axis=1)\n",
    "\n",
    "x_train = x_train.join(ohe_h)\n",
    "x_test = x_test.join(ohe_test)\n",
    "\n",
    "StandardScal1 = pd.DataFrame(stsc.fit_transform(x_train))\n",
    "StandardScal2 = pd.DataFrame(stsc.transform(x_test))\n",
    "\n",
    "\n",
    "x_train = StandardScal1\n",
    "x_test = StandardScal2\n",
    "\n",
    "\n",
    "sgdr = LogisticRegression(fit_intercept = True, max_iter = 10000, \n",
    "                          tol=1e-5, penalty='none', solver='sag')\n",
    "sgdr.fit(x_train, y_train)\n",
    "\n",
    "\n",
    "best_features1 = np.abs(sgdr.coef_[0]).argsort()[-40:]\n",
    "x_train_bf = x_train.iloc[:, best_features]\n",
    "x_test_bf = x_test.iloc[:, best_features]\n",
    "\n",
    "\n",
    "best_features1 = np.abs(sgdr.coef_[0]).argsort()[-40:]\n",
    "\n",
    "\n",
    "sgdr = LogisticRegression(fit_intercept = True, max_iter = 10000, \n",
    "                          tol=1e-5, penalty='none', solver='sag')\n",
    "sgdr.fit(x_train_bf, y_train)\n",
    "sgdr_y_pred = sgdr.predict_proba(x_test_bf)[:, 1]\n",
    "\n",
    "print('TIME = ', time.time() - start)\n",
    "print('AUC-PR =', average_precision_score(y_test, sgdr_y_pred))"
   ]
  },
  {
   "cell_type": "code",
   "execution_count": 168,
   "metadata": {},
   "outputs": [
    {
     "data": {
      "text/plain": [
       "array([ 1,  2,  3,  4,  5,  6,  7,  8, 13, 14, 18, 20, 21, 22, 25, 26, 31,\n",
       "       33, 34, 35, 36, 37, 38, 42, 45, 46, 47, 48, 49, 50, 51, 52, 53, 54,\n",
       "       55, 56, 58, 59, 60, 61])"
      ]
     },
     "execution_count": 168,
     "metadata": {},
     "output_type": "execute_result"
    }
   ],
   "source": [
    "best_features1.sort()\n",
    "best_features1"
   ]
  },
  {
   "cell_type": "code",
   "execution_count": 169,
   "metadata": {
    "scrolled": true
   },
   "outputs": [
    {
     "data": {
      "text/plain": [
       "{1,\n",
       " 3,\n",
       " 6,\n",
       " 9,\n",
       " 10,\n",
       " 11,\n",
       " 13,\n",
       " 16,\n",
       " 20,\n",
       " 21,\n",
       " 22,\n",
       " 23,\n",
       " 26,\n",
       " 27,\n",
       " 28,\n",
       " 29,\n",
       " 30,\n",
       " 31,\n",
       " 35,\n",
       " 39,\n",
       " 40,\n",
       " 41,\n",
       " 43,\n",
       " 44,\n",
       " 45,\n",
       " 56,\n",
       " 57,\n",
       " 59,\n",
       " 60,\n",
       " 61}"
      ]
     },
     "execution_count": 169,
     "metadata": {},
     "output_type": "execute_result"
    }
   ],
   "source": [
    "set(best_features1).symmetric_difference(set(best_features))"
   ]
  },
  {
   "cell_type": "markdown",
   "metadata": {},
   "source": [
    "**Изменился ли их список? Изменится ли качество?**: изменился список, качество улучшилось вообще незначительно(не изменилось)"
   ]
  },
  {
   "cell_type": "markdown",
   "metadata": {},
   "source": [
    "### Методы фильтрации\n",
    "\n",
    "\n",
    "Давайте отбирать признаки умнее, а именно через подсчёт некоторой функции для каждого признака. На основании значений этой функции будем оставлять наиболее важные признаки. Методы этого семейства называют фильтрующими или  filter methods. \n",
    "\n",
    "В качестве такой функции будем считать t-статистику:\n",
    "\n",
    "$$t(j) = \\frac{|\\mu_+ - \\mu_-|}{\\sqrt{\\frac{n_+ \\sigma^2_+ + n_- \\sigma^2_-}{n_+ + n_-}}},$$\n",
    "\n",
    "где $\\mu$, $\\sigma$, $n$ соответственно среднее, стандартное отклонение и количество объектов каждого из классов.\n",
    "\n",
    "__Задание 9 (0.5 балла).__ Оставьте 40 признаков с наибольшим значением $t$ и замерьте качество. Не забудьте замерить скорость отбора признаков в этом случае.\n",
    "\n"
   ]
  },
  {
   "cell_type": "code",
   "execution_count": 265,
   "metadata": {},
   "outputs": [],
   "source": [
    "df = pd.read_csv('bank-additional/bank-additional-full.csv', sep=';')\n",
    "\n",
    "X = df.drop(columns=['duration', 'y'])\n",
    "y = (df.y == 'yes')\n",
    "x_train, x_test, y_train, y_test = train_test_split(X, y, test_size=0.2, random_state=777, stratify=y)"
   ]
  },
  {
   "cell_type": "code",
   "execution_count": 266,
   "metadata": {},
   "outputs": [],
   "source": [
    "ore = OneHotEncoder()\n",
    "\n",
    "x = x_train[columns_to_scale].reset_index().drop('index', axis=1)\n",
    "y = x_test[columns_to_scale].reset_index().drop('index', axis=1)\n",
    "\n",
    "ore_train = pd.DataFrame(ore.fit_transform(x_train[columns_to_code]).toarray())\n",
    "ore_test = pd.DataFrame(ore.transform(x_test[columns_to_code]).toarray())\n",
    "\n",
    "y_train = y_train.reset_index().drop('index', axis=1)\n",
    "x_train = x.join(ore_train)\n",
    "x_test = y.join(ore_test)"
   ]
  },
  {
   "cell_type": "code",
   "execution_count": 268,
   "metadata": {
    "scrolled": false
   },
   "outputs": [
    {
     "name": "stderr",
     "output_type": "stream",
     "text": [
      "/Users/varya/miniforge3/envs/hseml/lib/python3.9/site-packages/sklearn/utils/validation.py:63: DataConversionWarning: A column-vector y was passed when a 1d array was expected. Please change the shape of y to (n_samples, ), for example using ravel().\n",
      "  return f(*args, **kwargs)\n"
     ]
    },
    {
     "name": "stdout",
     "output_type": "stream",
     "text": [
      "TIME =  69.28559517860413\n",
      "AUC-PR = 0.4441739844450241\n"
     ]
    },
    {
     "name": "stderr",
     "output_type": "stream",
     "text": [
      "/Users/varya/miniforge3/envs/hseml/lib/python3.9/site-packages/sklearn/linear_model/_sag.py:328: ConvergenceWarning: The max_iter was reached which means the coef_ did not converge\n",
      "  warnings.warn(\"The max_iter was reached which means \"\n"
     ]
    }
   ],
   "source": [
    "start = time.time()\n",
    "t_stat = dict()\n",
    "columns = x_train.columns\n",
    "for col in columns:\n",
    "    column = x_train[col]\n",
    "    \n",
    "    positive = column[(y_train == 1).y]\n",
    "    negative = column[(y_train == 0).y]\n",
    "\n",
    "    nominator = np.abs(positive.mean() - negative.mean())\n",
    "\n",
    "    denominator = positive.shape[0] * np.var(positive ,axis=0) \n",
    "    denominator += negative.shape[0] * np.var(negative ,axis=0)\n",
    "    denominator = denominator / X.shape[0]\n",
    "    denominator = np.sqrt(denominator)\n",
    "\n",
    "    t = nominator / denominator\n",
    "\n",
    "    t_stat[col] = t\n",
    "\n",
    "\n",
    "best_features_stat = sorted(t_stat, key=t_stat.get)[-40:]\n",
    "x_train_bf = x_train[best_features_stat]\n",
    "x_test_bf = x_test[best_features_stat]\n",
    "\n",
    "\n",
    "\n",
    "sgdr = LogisticRegression(fit_intercept = True, max_iter = 10000, \n",
    "                          tol=1e-5, penalty='none', solver='sag')\n",
    "sgdr.fit(x_train_bf, y_train)\n",
    "sgdr_y_pred = sgdr.predict_proba(x_test_bf)[:, 1]\n",
    "\n",
    "print('TIME = ', time.time() - start)\n",
    "print('AUC-PR =', average_precision_score(y_test, sgdr_y_pred))\n"
   ]
  },
  {
   "cell_type": "markdown",
   "metadata": {},
   "source": [
    "### Методы-обёртки\n",
    "\n",
    "__Задание 10 (1 балл).__ \n",
    "\n",
    "Третий из рассматриваемых нами методов работает следующим образом: мы исключаем по очереди один из признаков и смотрим, как это влияет на качество. Удаляем признаки таким жадным способом, пока не окажется выполненым некоторое условие (количество признаков или ухудшение качества).\n",
    "\n",
    "Заметим, что нельзя оценивать качество по тестовой выборке, иначе мы можем переобучиться, как, например, при настройке гиперпараметров. Разделите обучающую выборку на 2 части, на одной из них обучайте модель без одного из признаков,  на второй части оценивайте качество. Исходную тестовую выборку стоит использовать только для финальной оценки качества.\n",
    "\n",
    "Снова оставьте только 40 признаков и оцените качество на тестовой выборке. Сколько времени занял такой отбор признаков?"
   ]
  },
  {
   "cell_type": "markdown",
   "metadata": {},
   "source": [
    "# Часть 3. Оценка экономического эффекта модели\n",
    "\n",
    "В данной части мы займемся тем, что от вас скорее всего потребуется на реальной работе (помимо перекладки `json`, разумеется). А именно: мы соберем несколько специализированных метрик качества, попытаемся настроить модель на максимизацию _прибыли_ и оценим, сколько вообще получится заработать на этом. Разумеется, здесь будет сделано множество упрощающих жизнь допущений, но обо всем по порядку. \n",
    "\n",
    "__Задание 11 (1 балл).__ Допустим, работники вашего колл-центра получают за один звонок клиенту 1 доллар. При согласии клиента на предлагаемые условия он принесет в банк 10 долларов.\n",
    "\n",
    "Если вы всё прослушали на экономике, то напомним, что выручка — это сколько денег нам принесли клиенты, а прибыль — выручка за вычетом расходов на зарплату и прочее.\n",
    "\n",
    "Загрузите данные о телемаркетинге из предыдущего блока заданий. В этой части не нужно делить выборку - мы будем использовать кросс-валидацию. Используйте 5 фолдов, сделайте `shuffle=True, random_state=500`. По кросс-валидации у вас получится 5 вариантов обучающей и тестовой выборки. Обучите логистическую регрессию на каждой обучающей выборке (воспользуйтесь one-hot для категориальных признаков, гиперпараметры оставьте со значениями по умолчанию) и сделайте предсказания для соответствующих тестовых выборок. Допустим, всем положительным прогнозам ваши сотрудники решили позвонить. Посчитайте на всех тестовых выборках выручку и усредните. Сколько денег вы в среднем заработаете? Также вычислите стандартное отклонение.\n",
    "\n"
   ]
  },
  {
   "cell_type": "code",
   "execution_count": 19,
   "metadata": {},
   "outputs": [
    {
     "name": "stderr",
     "output_type": "stream",
     "text": [
      "/Users/varya/miniforge3/envs/hseml/lib/python3.9/site-packages/sklearn/utils/validation.py:63: DataConversionWarning: A column-vector y was passed when a 1d array was expected. Please change the shape of y to (n_samples, ), for example using ravel().\n",
      "  return f(*args, **kwargs)\n",
      "/Users/varya/miniforge3/envs/hseml/lib/python3.9/site-packages/sklearn/linear_model/_sag.py:328: ConvergenceWarning: The max_iter was reached which means the coef_ did not converge\n",
      "  warnings.warn(\"The max_iter was reached which means \"\n",
      "/Users/varya/miniforge3/envs/hseml/lib/python3.9/site-packages/sklearn/utils/validation.py:63: DataConversionWarning: A column-vector y was passed when a 1d array was expected. Please change the shape of y to (n_samples, ), for example using ravel().\n",
      "  return f(*args, **kwargs)\n",
      "/Users/varya/miniforge3/envs/hseml/lib/python3.9/site-packages/sklearn/linear_model/_sag.py:328: ConvergenceWarning: The max_iter was reached which means the coef_ did not converge\n",
      "  warnings.warn(\"The max_iter was reached which means \"\n",
      "/Users/varya/miniforge3/envs/hseml/lib/python3.9/site-packages/sklearn/utils/validation.py:63: DataConversionWarning: A column-vector y was passed when a 1d array was expected. Please change the shape of y to (n_samples, ), for example using ravel().\n",
      "  return f(*args, **kwargs)\n",
      "/Users/varya/miniforge3/envs/hseml/lib/python3.9/site-packages/sklearn/linear_model/_sag.py:328: ConvergenceWarning: The max_iter was reached which means the coef_ did not converge\n",
      "  warnings.warn(\"The max_iter was reached which means \"\n",
      "/Users/varya/miniforge3/envs/hseml/lib/python3.9/site-packages/sklearn/utils/validation.py:63: DataConversionWarning: A column-vector y was passed when a 1d array was expected. Please change the shape of y to (n_samples, ), for example using ravel().\n",
      "  return f(*args, **kwargs)\n",
      "/Users/varya/miniforge3/envs/hseml/lib/python3.9/site-packages/sklearn/linear_model/_sag.py:328: ConvergenceWarning: The max_iter was reached which means the coef_ did not converge\n",
      "  warnings.warn(\"The max_iter was reached which means \"\n",
      "/Users/varya/miniforge3/envs/hseml/lib/python3.9/site-packages/sklearn/utils/validation.py:63: DataConversionWarning: A column-vector y was passed when a 1d array was expected. Please change the shape of y to (n_samples, ), for example using ravel().\n",
      "  return f(*args, **kwargs)\n",
      "/Users/varya/miniforge3/envs/hseml/lib/python3.9/site-packages/sklearn/linear_model/_sag.py:328: ConvergenceWarning: The max_iter was reached which means the coef_ did not converge\n",
      "  warnings.warn(\"The max_iter was reached which means \"\n"
     ]
    }
   ],
   "source": [
    "df = pd.read_csv('bank-additional/bank-additional-full.csv', sep=';')\n",
    "\n",
    "X = df.drop(columns=['duration', 'y'])\n",
    "y = (df.y == 'yes')\n",
    "\n",
    "folds = KFold(n_splits=5, random_state=500, shuffle=True)\n",
    "vir = []\n",
    "prof = []\n",
    "loss = []\n",
    "for train_idx, test_idx in folds.split(X):\n",
    "    x_train, x_test = X.loc[train_idx], X.loc[test_idx]\n",
    "    y_train, y_test = y.loc[train_idx], y.loc[test_idx]\n",
    "    ore = OneHotEncoder()\n",
    "\n",
    "    x = x_train[columns_to_scale].reset_index().drop('index', axis=1)\n",
    "    yy = x_test[columns_to_scale].reset_index().drop('index', axis=1)\n",
    "\n",
    "    ore_train = pd.DataFrame(ore.fit_transform(x_train[columns_to_code]).toarray())\n",
    "    ore_test = pd.DataFrame(ore.transform(x_test[columns_to_code]).toarray())\n",
    "\n",
    "    y_train = y_train.reset_index().drop('index', axis=1)\n",
    "    x_train = x.join(ore_train)\n",
    "    x_test = yy.join(ore_test)\n",
    "    \n",
    "    sgdr = LogisticRegression(fit_intercept = True, max_iter = 10000, \n",
    "                          tol=1e-5, penalty='none', solver='sag')\n",
    "    sgdr.fit(x_train, y_train)\n",
    "    sgdr_y_pred = sgdr.predict_proba(x_test)[:, 1]\n",
    "\n",
    "    loss.append(sgdr_y_pred.sum())\n",
    "    vir.append((sgdr_y_pred * y_test).sum() * 10)\n",
    "    prof.append(vir[-1] - loss[-1])\n"
   ]
  },
  {
   "cell_type": "code",
   "execution_count": 20,
   "metadata": {},
   "outputs": [
    {
     "name": "stdout",
     "output_type": "stream",
     "text": [
      "MEAN VIRUCHKA:  2692.2235480310264\n",
      "MEAN PROFIT:  1764.2121547846223\n",
      "ST DEVIATION PROFIT:  50.12613678504998\n"
     ]
    }
   ],
   "source": [
    "print('MEAN VIRUCHKA: ', np.mean(vir))\n",
    "print('MEAN PROFIT: ', np.mean(prof))\n",
    "print('ST DEVIATION PROFIT: ', np.std(np.array(prof)))"
   ]
  },
  {
   "cell_type": "markdown",
   "metadata": {},
   "source": [
    "Внесем некоторую долю случайности. Пусть теперь согласный на условия клиент будет приносить не 10 долларов, а случайную величину, равномерно распределенную в интервале $[0;20)$. Проделайте все те же самые действия. Для имитации реальной ситуации **НЕ** фиксируйте `random_seed` при подсчете выручки с клиента. Что получилось?"
   ]
  },
  {
   "cell_type": "code",
   "execution_count": 28,
   "metadata": {},
   "outputs": [
    {
     "name": "stderr",
     "output_type": "stream",
     "text": [
      "/Users/varya/miniforge3/envs/hseml/lib/python3.9/site-packages/sklearn/utils/validation.py:63: DataConversionWarning: A column-vector y was passed when a 1d array was expected. Please change the shape of y to (n_samples, ), for example using ravel().\n",
      "  return f(*args, **kwargs)\n",
      "/Users/varya/miniforge3/envs/hseml/lib/python3.9/site-packages/sklearn/linear_model/_sag.py:328: ConvergenceWarning: The max_iter was reached which means the coef_ did not converge\n",
      "  warnings.warn(\"The max_iter was reached which means \"\n",
      "/Users/varya/miniforge3/envs/hseml/lib/python3.9/site-packages/sklearn/utils/validation.py:63: DataConversionWarning: A column-vector y was passed when a 1d array was expected. Please change the shape of y to (n_samples, ), for example using ravel().\n",
      "  return f(*args, **kwargs)\n",
      "/Users/varya/miniforge3/envs/hseml/lib/python3.9/site-packages/sklearn/linear_model/_sag.py:328: ConvergenceWarning: The max_iter was reached which means the coef_ did not converge\n",
      "  warnings.warn(\"The max_iter was reached which means \"\n",
      "/Users/varya/miniforge3/envs/hseml/lib/python3.9/site-packages/sklearn/utils/validation.py:63: DataConversionWarning: A column-vector y was passed when a 1d array was expected. Please change the shape of y to (n_samples, ), for example using ravel().\n",
      "  return f(*args, **kwargs)\n",
      "/Users/varya/miniforge3/envs/hseml/lib/python3.9/site-packages/sklearn/linear_model/_sag.py:328: ConvergenceWarning: The max_iter was reached which means the coef_ did not converge\n",
      "  warnings.warn(\"The max_iter was reached which means \"\n",
      "/Users/varya/miniforge3/envs/hseml/lib/python3.9/site-packages/sklearn/utils/validation.py:63: DataConversionWarning: A column-vector y was passed when a 1d array was expected. Please change the shape of y to (n_samples, ), for example using ravel().\n",
      "  return f(*args, **kwargs)\n",
      "/Users/varya/miniforge3/envs/hseml/lib/python3.9/site-packages/sklearn/linear_model/_sag.py:328: ConvergenceWarning: The max_iter was reached which means the coef_ did not converge\n",
      "  warnings.warn(\"The max_iter was reached which means \"\n",
      "/Users/varya/miniforge3/envs/hseml/lib/python3.9/site-packages/sklearn/utils/validation.py:63: DataConversionWarning: A column-vector y was passed when a 1d array was expected. Please change the shape of y to (n_samples, ), for example using ravel().\n",
      "  return f(*args, **kwargs)\n",
      "/Users/varya/miniforge3/envs/hseml/lib/python3.9/site-packages/sklearn/linear_model/_sag.py:328: ConvergenceWarning: The max_iter was reached which means the coef_ did not converge\n",
      "  warnings.warn(\"The max_iter was reached which means \"\n"
     ]
    }
   ],
   "source": [
    "df = pd.read_csv('bank-additional/bank-additional-full.csv', sep=';')\n",
    "\n",
    "X = df.drop(columns=['duration', 'y'])\n",
    "y = (df.y == 'yes')\n",
    "\n",
    "folds = KFold(n_splits=5, random_state=500, shuffle=True)\n",
    "vir = []\n",
    "prof = []\n",
    "loss = []\n",
    "for train_idx, test_idx in folds.split(X):\n",
    "    x_train, x_test = X.loc[train_idx], X.loc[test_idx]\n",
    "    y_train, y_test = y.loc[train_idx], y.loc[test_idx]\n",
    "    ore = OneHotEncoder()\n",
    "\n",
    "    x = x_train[columns_to_scale].reset_index().drop('index', axis=1)\n",
    "    yy = x_test[columns_to_scale].reset_index().drop('index', axis=1)\n",
    "\n",
    "    ore_train = pd.DataFrame(ore.fit_transform(x_train[columns_to_code]).toarray())\n",
    "    ore_test = pd.DataFrame(ore.transform(x_test[columns_to_code]).toarray())\n",
    "\n",
    "    y_train = y_train.reset_index().drop('index', axis=1)\n",
    "    x_train = x.join(ore_train)\n",
    "    x_test = yy.join(ore_test)\n",
    "    \n",
    "    sgdr = LogisticRegression(fit_intercept = True, max_iter = 10000, \n",
    "                          tol=1e-5, penalty='none', solver='sag')\n",
    "    sgdr.fit(x_train, y_train)\n",
    "    sgdr_y_pred = sgdr.predict_proba(x_test)[:, 1]\n",
    "\n",
    "    loss.append(sgdr_y_pred.sum())\n",
    "    vir.append((sgdr_y_pred * y_test).sum() * np.random.rand() * 20)\n",
    "    prof.append(vir[-1] - loss[-1])"
   ]
  },
  {
   "cell_type": "code",
   "execution_count": 29,
   "metadata": {},
   "outputs": [
    {
     "name": "stdout",
     "output_type": "stream",
     "text": [
      "MEAN VIRUCHKA:  2694.406075869615\n",
      "MEAN PROFIT:  1766.395611259078\n",
      "ST DEVIATION PROFIT:  2065.602372326665\n"
     ]
    }
   ],
   "source": [
    "print('MEAN VIRUCHKA: ', np.mean(vir))\n",
    "print('MEAN PROFIT: ', np.mean(prof))\n",
    "print('ST DEVIATION PROFIT: ', np.std(np.array(prof)))"
   ]
  },
  {
   "cell_type": "markdown",
   "metadata": {},
   "source": [
    "**Что получилось**: видим, что средние значения от этого не изменилась, при этом дисперсия возможного profit-а значительно увеличиась, что естественно т.к. предсказания теперь случайны"
   ]
  },
  {
   "cell_type": "markdown",
   "metadata": {},
   "source": [
    "Настройте по кросс-валидации коэффициент регуляризации модели для максимизации прибыли (считайте как случайную величину выше). Удалось ли получить какой-то выигрыш? При каком коэффициенте регуляризациии прибыль максимальна? Постройте график зависимости ожидаемой прибыли от коэффициента, также укажите стандартные отклонения (вам поможет `plt.errorbar`)."
   ]
  },
  {
   "cell_type": "code",
   "execution_count": 51,
   "metadata": {
    "scrolled": true
   },
   "outputs": [
    {
     "name": "stderr",
     "output_type": "stream",
     "text": [
      "/Users/varya/miniforge3/envs/hseml/lib/python3.9/site-packages/sklearn/utils/validation.py:63: DataConversionWarning: A column-vector y was passed when a 1d array was expected. Please change the shape of y to (n_samples, ), for example using ravel().\n",
      "  return f(*args, **kwargs)\n",
      "/Users/varya/miniforge3/envs/hseml/lib/python3.9/site-packages/sklearn/utils/validation.py:63: DataConversionWarning: A column-vector y was passed when a 1d array was expected. Please change the shape of y to (n_samples, ), for example using ravel().\n",
      "  return f(*args, **kwargs)\n",
      "/Users/varya/miniforge3/envs/hseml/lib/python3.9/site-packages/sklearn/utils/validation.py:63: DataConversionWarning: A column-vector y was passed when a 1d array was expected. Please change the shape of y to (n_samples, ), for example using ravel().\n",
      "  return f(*args, **kwargs)\n",
      "/Users/varya/miniforge3/envs/hseml/lib/python3.9/site-packages/sklearn/utils/validation.py:63: DataConversionWarning: A column-vector y was passed when a 1d array was expected. Please change the shape of y to (n_samples, ), for example using ravel().\n",
      "  return f(*args, **kwargs)\n",
      "/Users/varya/miniforge3/envs/hseml/lib/python3.9/site-packages/sklearn/utils/validation.py:63: DataConversionWarning: A column-vector y was passed when a 1d array was expected. Please change the shape of y to (n_samples, ), for example using ravel().\n",
      "  return f(*args, **kwargs)\n",
      "/Users/varya/miniforge3/envs/hseml/lib/python3.9/site-packages/sklearn/utils/validation.py:63: DataConversionWarning: A column-vector y was passed when a 1d array was expected. Please change the shape of y to (n_samples, ), for example using ravel().\n",
      "  return f(*args, **kwargs)\n",
      "/Users/varya/miniforge3/envs/hseml/lib/python3.9/site-packages/sklearn/utils/validation.py:63: DataConversionWarning: A column-vector y was passed when a 1d array was expected. Please change the shape of y to (n_samples, ), for example using ravel().\n",
      "  return f(*args, **kwargs)\n",
      "/Users/varya/miniforge3/envs/hseml/lib/python3.9/site-packages/sklearn/utils/validation.py:63: DataConversionWarning: A column-vector y was passed when a 1d array was expected. Please change the shape of y to (n_samples, ), for example using ravel().\n",
      "  return f(*args, **kwargs)\n",
      "/Users/varya/miniforge3/envs/hseml/lib/python3.9/site-packages/sklearn/utils/validation.py:63: DataConversionWarning: A column-vector y was passed when a 1d array was expected. Please change the shape of y to (n_samples, ), for example using ravel().\n",
      "  return f(*args, **kwargs)\n",
      "/Users/varya/miniforge3/envs/hseml/lib/python3.9/site-packages/sklearn/utils/validation.py:63: DataConversionWarning: A column-vector y was passed when a 1d array was expected. Please change the shape of y to (n_samples, ), for example using ravel().\n",
      "  return f(*args, **kwargs)\n",
      "/Users/varya/miniforge3/envs/hseml/lib/python3.9/site-packages/sklearn/utils/validation.py:63: DataConversionWarning: A column-vector y was passed when a 1d array was expected. Please change the shape of y to (n_samples, ), for example using ravel().\n",
      "  return f(*args, **kwargs)\n",
      "/Users/varya/miniforge3/envs/hseml/lib/python3.9/site-packages/sklearn/utils/validation.py:63: DataConversionWarning: A column-vector y was passed when a 1d array was expected. Please change the shape of y to (n_samples, ), for example using ravel().\n",
      "  return f(*args, **kwargs)\n",
      "/Users/varya/miniforge3/envs/hseml/lib/python3.9/site-packages/sklearn/utils/validation.py:63: DataConversionWarning: A column-vector y was passed when a 1d array was expected. Please change the shape of y to (n_samples, ), for example using ravel().\n",
      "  return f(*args, **kwargs)\n",
      "/Users/varya/miniforge3/envs/hseml/lib/python3.9/site-packages/sklearn/utils/validation.py:63: DataConversionWarning: A column-vector y was passed when a 1d array was expected. Please change the shape of y to (n_samples, ), for example using ravel().\n",
      "  return f(*args, **kwargs)\n",
      "/Users/varya/miniforge3/envs/hseml/lib/python3.9/site-packages/sklearn/utils/validation.py:63: DataConversionWarning: A column-vector y was passed when a 1d array was expected. Please change the shape of y to (n_samples, ), for example using ravel().\n",
      "  return f(*args, **kwargs)\n",
      "/Users/varya/miniforge3/envs/hseml/lib/python3.9/site-packages/sklearn/utils/validation.py:63: DataConversionWarning: A column-vector y was passed when a 1d array was expected. Please change the shape of y to (n_samples, ), for example using ravel().\n",
      "  return f(*args, **kwargs)\n",
      "/Users/varya/miniforge3/envs/hseml/lib/python3.9/site-packages/sklearn/utils/validation.py:63: DataConversionWarning: A column-vector y was passed when a 1d array was expected. Please change the shape of y to (n_samples, ), for example using ravel().\n",
      "  return f(*args, **kwargs)\n",
      "/Users/varya/miniforge3/envs/hseml/lib/python3.9/site-packages/sklearn/utils/validation.py:63: DataConversionWarning: A column-vector y was passed when a 1d array was expected. Please change the shape of y to (n_samples, ), for example using ravel().\n",
      "  return f(*args, **kwargs)\n",
      "/Users/varya/miniforge3/envs/hseml/lib/python3.9/site-packages/sklearn/utils/validation.py:63: DataConversionWarning: A column-vector y was passed when a 1d array was expected. Please change the shape of y to (n_samples, ), for example using ravel().\n",
      "  return f(*args, **kwargs)\n",
      "/Users/varya/miniforge3/envs/hseml/lib/python3.9/site-packages/sklearn/utils/validation.py:63: DataConversionWarning: A column-vector y was passed when a 1d array was expected. Please change the shape of y to (n_samples, ), for example using ravel().\n",
      "  return f(*args, **kwargs)\n",
      "/Users/varya/miniforge3/envs/hseml/lib/python3.9/site-packages/sklearn/utils/validation.py:63: DataConversionWarning: A column-vector y was passed when a 1d array was expected. Please change the shape of y to (n_samples, ), for example using ravel().\n",
      "  return f(*args, **kwargs)\n",
      "/Users/varya/miniforge3/envs/hseml/lib/python3.9/site-packages/sklearn/utils/validation.py:63: DataConversionWarning: A column-vector y was passed when a 1d array was expected. Please change the shape of y to (n_samples, ), for example using ravel().\n",
      "  return f(*args, **kwargs)\n",
      "/Users/varya/miniforge3/envs/hseml/lib/python3.9/site-packages/sklearn/utils/validation.py:63: DataConversionWarning: A column-vector y was passed when a 1d array was expected. Please change the shape of y to (n_samples, ), for example using ravel().\n",
      "  return f(*args, **kwargs)\n",
      "/Users/varya/miniforge3/envs/hseml/lib/python3.9/site-packages/sklearn/utils/validation.py:63: DataConversionWarning: A column-vector y was passed when a 1d array was expected. Please change the shape of y to (n_samples, ), for example using ravel().\n",
      "  return f(*args, **kwargs)\n",
      "/Users/varya/miniforge3/envs/hseml/lib/python3.9/site-packages/sklearn/utils/validation.py:63: DataConversionWarning: A column-vector y was passed when a 1d array was expected. Please change the shape of y to (n_samples, ), for example using ravel().\n",
      "  return f(*args, **kwargs)\n",
      "/Users/varya/miniforge3/envs/hseml/lib/python3.9/site-packages/sklearn/utils/validation.py:63: DataConversionWarning: A column-vector y was passed when a 1d array was expected. Please change the shape of y to (n_samples, ), for example using ravel().\n",
      "  return f(*args, **kwargs)\n",
      "/Users/varya/miniforge3/envs/hseml/lib/python3.9/site-packages/sklearn/utils/validation.py:63: DataConversionWarning: A column-vector y was passed when a 1d array was expected. Please change the shape of y to (n_samples, ), for example using ravel().\n",
      "  return f(*args, **kwargs)\n",
      "/Users/varya/miniforge3/envs/hseml/lib/python3.9/site-packages/sklearn/utils/validation.py:63: DataConversionWarning: A column-vector y was passed when a 1d array was expected. Please change the shape of y to (n_samples, ), for example using ravel().\n",
      "  return f(*args, **kwargs)\n",
      "/Users/varya/miniforge3/envs/hseml/lib/python3.9/site-packages/sklearn/utils/validation.py:63: DataConversionWarning: A column-vector y was passed when a 1d array was expected. Please change the shape of y to (n_samples, ), for example using ravel().\n",
      "  return f(*args, **kwargs)\n",
      "/Users/varya/miniforge3/envs/hseml/lib/python3.9/site-packages/sklearn/utils/validation.py:63: DataConversionWarning: A column-vector y was passed when a 1d array was expected. Please change the shape of y to (n_samples, ), for example using ravel().\n",
      "  return f(*args, **kwargs)\n"
     ]
    },
    {
     "name": "stderr",
     "output_type": "stream",
     "text": [
      "/Users/varya/miniforge3/envs/hseml/lib/python3.9/site-packages/sklearn/utils/validation.py:63: DataConversionWarning: A column-vector y was passed when a 1d array was expected. Please change the shape of y to (n_samples, ), for example using ravel().\n",
      "  return f(*args, **kwargs)\n",
      "/Users/varya/miniforge3/envs/hseml/lib/python3.9/site-packages/sklearn/utils/validation.py:63: DataConversionWarning: A column-vector y was passed when a 1d array was expected. Please change the shape of y to (n_samples, ), for example using ravel().\n",
      "  return f(*args, **kwargs)\n",
      "/Users/varya/miniforge3/envs/hseml/lib/python3.9/site-packages/sklearn/utils/validation.py:63: DataConversionWarning: A column-vector y was passed when a 1d array was expected. Please change the shape of y to (n_samples, ), for example using ravel().\n",
      "  return f(*args, **kwargs)\n",
      "/Users/varya/miniforge3/envs/hseml/lib/python3.9/site-packages/sklearn/utils/validation.py:63: DataConversionWarning: A column-vector y was passed when a 1d array was expected. Please change the shape of y to (n_samples, ), for example using ravel().\n",
      "  return f(*args, **kwargs)\n",
      "/Users/varya/miniforge3/envs/hseml/lib/python3.9/site-packages/sklearn/utils/validation.py:63: DataConversionWarning: A column-vector y was passed when a 1d array was expected. Please change the shape of y to (n_samples, ), for example using ravel().\n",
      "  return f(*args, **kwargs)\n",
      "/Users/varya/miniforge3/envs/hseml/lib/python3.9/site-packages/sklearn/utils/validation.py:63: DataConversionWarning: A column-vector y was passed when a 1d array was expected. Please change the shape of y to (n_samples, ), for example using ravel().\n",
      "  return f(*args, **kwargs)\n",
      "/Users/varya/miniforge3/envs/hseml/lib/python3.9/site-packages/sklearn/utils/validation.py:63: DataConversionWarning: A column-vector y was passed when a 1d array was expected. Please change the shape of y to (n_samples, ), for example using ravel().\n",
      "  return f(*args, **kwargs)\n",
      "/Users/varya/miniforge3/envs/hseml/lib/python3.9/site-packages/sklearn/utils/validation.py:63: DataConversionWarning: A column-vector y was passed when a 1d array was expected. Please change the shape of y to (n_samples, ), for example using ravel().\n",
      "  return f(*args, **kwargs)\n",
      "/Users/varya/miniforge3/envs/hseml/lib/python3.9/site-packages/sklearn/utils/validation.py:63: DataConversionWarning: A column-vector y was passed when a 1d array was expected. Please change the shape of y to (n_samples, ), for example using ravel().\n",
      "  return f(*args, **kwargs)\n",
      "/Users/varya/miniforge3/envs/hseml/lib/python3.9/site-packages/sklearn/utils/validation.py:63: DataConversionWarning: A column-vector y was passed when a 1d array was expected. Please change the shape of y to (n_samples, ), for example using ravel().\n",
      "  return f(*args, **kwargs)\n",
      "/Users/varya/miniforge3/envs/hseml/lib/python3.9/site-packages/sklearn/utils/validation.py:63: DataConversionWarning: A column-vector y was passed when a 1d array was expected. Please change the shape of y to (n_samples, ), for example using ravel().\n",
      "  return f(*args, **kwargs)\n",
      "/Users/varya/miniforge3/envs/hseml/lib/python3.9/site-packages/sklearn/utils/validation.py:63: DataConversionWarning: A column-vector y was passed when a 1d array was expected. Please change the shape of y to (n_samples, ), for example using ravel().\n",
      "  return f(*args, **kwargs)\n",
      "/Users/varya/miniforge3/envs/hseml/lib/python3.9/site-packages/sklearn/utils/validation.py:63: DataConversionWarning: A column-vector y was passed when a 1d array was expected. Please change the shape of y to (n_samples, ), for example using ravel().\n",
      "  return f(*args, **kwargs)\n",
      "/Users/varya/miniforge3/envs/hseml/lib/python3.9/site-packages/sklearn/utils/validation.py:63: DataConversionWarning: A column-vector y was passed when a 1d array was expected. Please change the shape of y to (n_samples, ), for example using ravel().\n",
      "  return f(*args, **kwargs)\n",
      "/Users/varya/miniforge3/envs/hseml/lib/python3.9/site-packages/sklearn/utils/validation.py:63: DataConversionWarning: A column-vector y was passed when a 1d array was expected. Please change the shape of y to (n_samples, ), for example using ravel().\n",
      "  return f(*args, **kwargs)\n",
      "/Users/varya/miniforge3/envs/hseml/lib/python3.9/site-packages/sklearn/utils/validation.py:63: DataConversionWarning: A column-vector y was passed when a 1d array was expected. Please change the shape of y to (n_samples, ), for example using ravel().\n",
      "  return f(*args, **kwargs)\n",
      "/Users/varya/miniforge3/envs/hseml/lib/python3.9/site-packages/sklearn/utils/validation.py:63: DataConversionWarning: A column-vector y was passed when a 1d array was expected. Please change the shape of y to (n_samples, ), for example using ravel().\n",
      "  return f(*args, **kwargs)\n",
      "/Users/varya/miniforge3/envs/hseml/lib/python3.9/site-packages/sklearn/utils/validation.py:63: DataConversionWarning: A column-vector y was passed when a 1d array was expected. Please change the shape of y to (n_samples, ), for example using ravel().\n",
      "  return f(*args, **kwargs)\n",
      "/Users/varya/miniforge3/envs/hseml/lib/python3.9/site-packages/sklearn/utils/validation.py:63: DataConversionWarning: A column-vector y was passed when a 1d array was expected. Please change the shape of y to (n_samples, ), for example using ravel().\n",
      "  return f(*args, **kwargs)\n",
      "/Users/varya/miniforge3/envs/hseml/lib/python3.9/site-packages/sklearn/utils/validation.py:63: DataConversionWarning: A column-vector y was passed when a 1d array was expected. Please change the shape of y to (n_samples, ), for example using ravel().\n",
      "  return f(*args, **kwargs)\n"
     ]
    },
    {
     "name": "stdout",
     "output_type": "stream",
     "text": [
      "BEST C:  4.45\n",
      "BEST PROFIT:  3320.050475004437\n"
     ]
    }
   ],
   "source": [
    "df = pd.read_csv('bank-additional/bank-additional-full.csv', sep=';')\n",
    "\n",
    "X = df.drop(columns=['duration', 'y'])\n",
    "y = (df.y == 'yes')\n",
    "space = np.linspace(0.01, 10, 10)\n",
    "profits = []\n",
    "stds = []\n",
    "\n",
    "best_profit = 0\n",
    "best_c = -1\n",
    "\n",
    "for c in space:\n",
    "    folds = KFold(n_splits=5, random_state=500, shuffle=True)\n",
    "    vir = []\n",
    "    prof = []\n",
    "    loss = []\n",
    "    for train_idx, test_idx in folds.split(X):\n",
    "        x_train, x_test = X.loc[train_idx], X.loc[test_idx]\n",
    "        y_train, y_test = y.loc[train_idx], y.loc[test_idx]\n",
    "        ore = OneHotEncoder()\n",
    "\n",
    "        x = x_train[columns_to_scale].reset_index().drop('index', axis=1)\n",
    "        yy = x_test[columns_to_scale].reset_index().drop('index', axis=1)\n",
    "\n",
    "        ore_train = pd.DataFrame(ore.fit_transform(x_train[columns_to_code]).toarray())\n",
    "        ore_test = pd.DataFrame(ore.transform(x_test[columns_to_code]).toarray())\n",
    "\n",
    "        y_train = y_train.reset_index().drop('index', axis=1)\n",
    "        x_train = x.join(ore_train)\n",
    "        x_test = yy.join(ore_test)\n",
    "\n",
    "        sgdr = LogisticRegression(fit_intercept = True, max_iter = 1000, \n",
    "                              tol=1e-5, C=c)\n",
    "        sgdr.fit(x_train, y_train)\n",
    "        sgdr_y_pred = sgdr.predict_proba(x_test)[:, 1]\n",
    "\n",
    "        loss.append(sgdr_y_pred.sum())\n",
    "        vir.append((sgdr_y_pred * y_test).sum() * np.random.rand() * 20)\n",
    "        prof.append(vir[-1] - loss[-1])\n",
    "    \n",
    "    \n",
    "    profit = np.mean(prof)\n",
    "    profits.append(profit)\n",
    "    stds.append(np.std(prof))\n",
    "    if profit > best_profit:\n",
    "        best_profit = profit\n",
    "        best_c = c\n",
    "    \n",
    "    \n",
    "print('BEST C: ', best_c)\n",
    "print('BEST PROFIT: ', best_profit)"
   ]
  },
  {
   "cell_type": "code",
   "execution_count": 53,
   "metadata": {},
   "outputs": [
    {
     "data": {
      "image/png": "[encoded data removed]",
      "text/plain": [
       "<Figure size 432x288 with 1 Axes>"
      ]
     },
     "metadata": {
      "needs_background": "light"
     },
     "output_type": "display_data"
    }
   ],
   "source": [
    "plt.errorbar(space, profits, stds, color='magenta')\n",
    "plt.title('График зависимости ожидаемой прибыли от коэффициента')\n",
    "plt.grid()"
   ]
  },
  {
   "cell_type": "markdown",
   "metadata": {},
   "source": [
    "\n",
    "**ответ**: увеличилась в 2 раза средняя выручка\n",
    "    "
   ]
  },
  {
   "cell_type": "markdown",
   "metadata": {},
   "source": [
    "Попробуйте запустить перебор несколько раз. Находится ли каждый раз один и тот же \"лучший\" коэффициент? Присутствует ли какая-то закономерность? Какие вы можете сделать из этого выводы?\n",
    "\n",
    "**ответ**: Сделаю два раза одно и то же. "
   ]
  },
  {
   "cell_type": "code",
   "execution_count": 54,
   "metadata": {
    "scrolled": true
   },
   "outputs": [
    {
     "name": "stderr",
     "output_type": "stream",
     "text": [
      "/Users/varya/miniforge3/envs/hseml/lib/python3.9/site-packages/sklearn/utils/validation.py:63: DataConversionWarning: A column-vector y was passed when a 1d array was expected. Please change the shape of y to (n_samples, ), for example using ravel().\n",
      "  return f(*args, **kwargs)\n",
      "/Users/varya/miniforge3/envs/hseml/lib/python3.9/site-packages/sklearn/utils/validation.py:63: DataConversionWarning: A column-vector y was passed when a 1d array was expected. Please change the shape of y to (n_samples, ), for example using ravel().\n",
      "  return f(*args, **kwargs)\n",
      "/Users/varya/miniforge3/envs/hseml/lib/python3.9/site-packages/sklearn/utils/validation.py:63: DataConversionWarning: A column-vector y was passed when a 1d array was expected. Please change the shape of y to (n_samples, ), for example using ravel().\n",
      "  return f(*args, **kwargs)\n",
      "/Users/varya/miniforge3/envs/hseml/lib/python3.9/site-packages/sklearn/utils/validation.py:63: DataConversionWarning: A column-vector y was passed when a 1d array was expected. Please change the shape of y to (n_samples, ), for example using ravel().\n",
      "  return f(*args, **kwargs)\n",
      "/Users/varya/miniforge3/envs/hseml/lib/python3.9/site-packages/sklearn/utils/validation.py:63: DataConversionWarning: A column-vector y was passed when a 1d array was expected. Please change the shape of y to (n_samples, ), for example using ravel().\n",
      "  return f(*args, **kwargs)\n",
      "/Users/varya/miniforge3/envs/hseml/lib/python3.9/site-packages/sklearn/utils/validation.py:63: DataConversionWarning: A column-vector y was passed when a 1d array was expected. Please change the shape of y to (n_samples, ), for example using ravel().\n",
      "  return f(*args, **kwargs)\n",
      "/Users/varya/miniforge3/envs/hseml/lib/python3.9/site-packages/sklearn/utils/validation.py:63: DataConversionWarning: A column-vector y was passed when a 1d array was expected. Please change the shape of y to (n_samples, ), for example using ravel().\n",
      "  return f(*args, **kwargs)\n",
      "/Users/varya/miniforge3/envs/hseml/lib/python3.9/site-packages/sklearn/utils/validation.py:63: DataConversionWarning: A column-vector y was passed when a 1d array was expected. Please change the shape of y to (n_samples, ), for example using ravel().\n",
      "  return f(*args, **kwargs)\n",
      "/Users/varya/miniforge3/envs/hseml/lib/python3.9/site-packages/sklearn/utils/validation.py:63: DataConversionWarning: A column-vector y was passed when a 1d array was expected. Please change the shape of y to (n_samples, ), for example using ravel().\n",
      "  return f(*args, **kwargs)\n",
      "/Users/varya/miniforge3/envs/hseml/lib/python3.9/site-packages/sklearn/utils/validation.py:63: DataConversionWarning: A column-vector y was passed when a 1d array was expected. Please change the shape of y to (n_samples, ), for example using ravel().\n",
      "  return f(*args, **kwargs)\n",
      "/Users/varya/miniforge3/envs/hseml/lib/python3.9/site-packages/sklearn/utils/validation.py:63: DataConversionWarning: A column-vector y was passed when a 1d array was expected. Please change the shape of y to (n_samples, ), for example using ravel().\n",
      "  return f(*args, **kwargs)\n",
      "/Users/varya/miniforge3/envs/hseml/lib/python3.9/site-packages/sklearn/utils/validation.py:63: DataConversionWarning: A column-vector y was passed when a 1d array was expected. Please change the shape of y to (n_samples, ), for example using ravel().\n",
      "  return f(*args, **kwargs)\n",
      "/Users/varya/miniforge3/envs/hseml/lib/python3.9/site-packages/sklearn/utils/validation.py:63: DataConversionWarning: A column-vector y was passed when a 1d array was expected. Please change the shape of y to (n_samples, ), for example using ravel().\n",
      "  return f(*args, **kwargs)\n",
      "/Users/varya/miniforge3/envs/hseml/lib/python3.9/site-packages/sklearn/utils/validation.py:63: DataConversionWarning: A column-vector y was passed when a 1d array was expected. Please change the shape of y to (n_samples, ), for example using ravel().\n",
      "  return f(*args, **kwargs)\n",
      "/Users/varya/miniforge3/envs/hseml/lib/python3.9/site-packages/sklearn/utils/validation.py:63: DataConversionWarning: A column-vector y was passed when a 1d array was expected. Please change the shape of y to (n_samples, ), for example using ravel().\n",
      "  return f(*args, **kwargs)\n",
      "/Users/varya/miniforge3/envs/hseml/lib/python3.9/site-packages/sklearn/utils/validation.py:63: DataConversionWarning: A column-vector y was passed when a 1d array was expected. Please change the shape of y to (n_samples, ), for example using ravel().\n",
      "  return f(*args, **kwargs)\n",
      "/Users/varya/miniforge3/envs/hseml/lib/python3.9/site-packages/sklearn/utils/validation.py:63: DataConversionWarning: A column-vector y was passed when a 1d array was expected. Please change the shape of y to (n_samples, ), for example using ravel().\n",
      "  return f(*args, **kwargs)\n",
      "/Users/varya/miniforge3/envs/hseml/lib/python3.9/site-packages/sklearn/utils/validation.py:63: DataConversionWarning: A column-vector y was passed when a 1d array was expected. Please change the shape of y to (n_samples, ), for example using ravel().\n",
      "  return f(*args, **kwargs)\n",
      "/Users/varya/miniforge3/envs/hseml/lib/python3.9/site-packages/sklearn/utils/validation.py:63: DataConversionWarning: A column-vector y was passed when a 1d array was expected. Please change the shape of y to (n_samples, ), for example using ravel().\n",
      "  return f(*args, **kwargs)\n",
      "/Users/varya/miniforge3/envs/hseml/lib/python3.9/site-packages/sklearn/utils/validation.py:63: DataConversionWarning: A column-vector y was passed when a 1d array was expected. Please change the shape of y to (n_samples, ), for example using ravel().\n",
      "  return f(*args, **kwargs)\n",
      "/Users/varya/miniforge3/envs/hseml/lib/python3.9/site-packages/sklearn/utils/validation.py:63: DataConversionWarning: A column-vector y was passed when a 1d array was expected. Please change the shape of y to (n_samples, ), for example using ravel().\n",
      "  return f(*args, **kwargs)\n",
      "/Users/varya/miniforge3/envs/hseml/lib/python3.9/site-packages/sklearn/utils/validation.py:63: DataConversionWarning: A column-vector y was passed when a 1d array was expected. Please change the shape of y to (n_samples, ), for example using ravel().\n",
      "  return f(*args, **kwargs)\n",
      "/Users/varya/miniforge3/envs/hseml/lib/python3.9/site-packages/sklearn/utils/validation.py:63: DataConversionWarning: A column-vector y was passed when a 1d array was expected. Please change the shape of y to (n_samples, ), for example using ravel().\n",
      "  return f(*args, **kwargs)\n",
      "/Users/varya/miniforge3/envs/hseml/lib/python3.9/site-packages/sklearn/utils/validation.py:63: DataConversionWarning: A column-vector y was passed when a 1d array was expected. Please change the shape of y to (n_samples, ), for example using ravel().\n",
      "  return f(*args, **kwargs)\n",
      "/Users/varya/miniforge3/envs/hseml/lib/python3.9/site-packages/sklearn/utils/validation.py:63: DataConversionWarning: A column-vector y was passed when a 1d array was expected. Please change the shape of y to (n_samples, ), for example using ravel().\n",
      "  return f(*args, **kwargs)\n",
      "/Users/varya/miniforge3/envs/hseml/lib/python3.9/site-packages/sklearn/utils/validation.py:63: DataConversionWarning: A column-vector y was passed when a 1d array was expected. Please change the shape of y to (n_samples, ), for example using ravel().\n",
      "  return f(*args, **kwargs)\n",
      "/Users/varya/miniforge3/envs/hseml/lib/python3.9/site-packages/sklearn/utils/validation.py:63: DataConversionWarning: A column-vector y was passed when a 1d array was expected. Please change the shape of y to (n_samples, ), for example using ravel().\n",
      "  return f(*args, **kwargs)\n",
      "/Users/varya/miniforge3/envs/hseml/lib/python3.9/site-packages/sklearn/utils/validation.py:63: DataConversionWarning: A column-vector y was passed when a 1d array was expected. Please change the shape of y to (n_samples, ), for example using ravel().\n",
      "  return f(*args, **kwargs)\n",
      "/Users/varya/miniforge3/envs/hseml/lib/python3.9/site-packages/sklearn/utils/validation.py:63: DataConversionWarning: A column-vector y was passed when a 1d array was expected. Please change the shape of y to (n_samples, ), for example using ravel().\n",
      "  return f(*args, **kwargs)\n",
      "/Users/varya/miniforge3/envs/hseml/lib/python3.9/site-packages/sklearn/utils/validation.py:63: DataConversionWarning: A column-vector y was passed when a 1d array was expected. Please change the shape of y to (n_samples, ), for example using ravel().\n",
      "  return f(*args, **kwargs)\n"
     ]
    },
    {
     "name": "stderr",
     "output_type": "stream",
     "text": [
      "/Users/varya/miniforge3/envs/hseml/lib/python3.9/site-packages/sklearn/utils/validation.py:63: DataConversionWarning: A column-vector y was passed when a 1d array was expected. Please change the shape of y to (n_samples, ), for example using ravel().\n",
      "  return f(*args, **kwargs)\n",
      "/Users/varya/miniforge3/envs/hseml/lib/python3.9/site-packages/sklearn/utils/validation.py:63: DataConversionWarning: A column-vector y was passed when a 1d array was expected. Please change the shape of y to (n_samples, ), for example using ravel().\n",
      "  return f(*args, **kwargs)\n",
      "/Users/varya/miniforge3/envs/hseml/lib/python3.9/site-packages/sklearn/utils/validation.py:63: DataConversionWarning: A column-vector y was passed when a 1d array was expected. Please change the shape of y to (n_samples, ), for example using ravel().\n",
      "  return f(*args, **kwargs)\n",
      "/Users/varya/miniforge3/envs/hseml/lib/python3.9/site-packages/sklearn/utils/validation.py:63: DataConversionWarning: A column-vector y was passed when a 1d array was expected. Please change the shape of y to (n_samples, ), for example using ravel().\n",
      "  return f(*args, **kwargs)\n",
      "/Users/varya/miniforge3/envs/hseml/lib/python3.9/site-packages/sklearn/utils/validation.py:63: DataConversionWarning: A column-vector y was passed when a 1d array was expected. Please change the shape of y to (n_samples, ), for example using ravel().\n",
      "  return f(*args, **kwargs)\n",
      "/Users/varya/miniforge3/envs/hseml/lib/python3.9/site-packages/sklearn/utils/validation.py:63: DataConversionWarning: A column-vector y was passed when a 1d array was expected. Please change the shape of y to (n_samples, ), for example using ravel().\n",
      "  return f(*args, **kwargs)\n",
      "/Users/varya/miniforge3/envs/hseml/lib/python3.9/site-packages/sklearn/utils/validation.py:63: DataConversionWarning: A column-vector y was passed when a 1d array was expected. Please change the shape of y to (n_samples, ), for example using ravel().\n",
      "  return f(*args, **kwargs)\n",
      "/Users/varya/miniforge3/envs/hseml/lib/python3.9/site-packages/sklearn/utils/validation.py:63: DataConversionWarning: A column-vector y was passed when a 1d array was expected. Please change the shape of y to (n_samples, ), for example using ravel().\n",
      "  return f(*args, **kwargs)\n",
      "/Users/varya/miniforge3/envs/hseml/lib/python3.9/site-packages/sklearn/utils/validation.py:63: DataConversionWarning: A column-vector y was passed when a 1d array was expected. Please change the shape of y to (n_samples, ), for example using ravel().\n",
      "  return f(*args, **kwargs)\n",
      "/Users/varya/miniforge3/envs/hseml/lib/python3.9/site-packages/sklearn/utils/validation.py:63: DataConversionWarning: A column-vector y was passed when a 1d array was expected. Please change the shape of y to (n_samples, ), for example using ravel().\n",
      "  return f(*args, **kwargs)\n",
      "/Users/varya/miniforge3/envs/hseml/lib/python3.9/site-packages/sklearn/utils/validation.py:63: DataConversionWarning: A column-vector y was passed when a 1d array was expected. Please change the shape of y to (n_samples, ), for example using ravel().\n",
      "  return f(*args, **kwargs)\n",
      "/Users/varya/miniforge3/envs/hseml/lib/python3.9/site-packages/sklearn/utils/validation.py:63: DataConversionWarning: A column-vector y was passed when a 1d array was expected. Please change the shape of y to (n_samples, ), for example using ravel().\n",
      "  return f(*args, **kwargs)\n",
      "/Users/varya/miniforge3/envs/hseml/lib/python3.9/site-packages/sklearn/utils/validation.py:63: DataConversionWarning: A column-vector y was passed when a 1d array was expected. Please change the shape of y to (n_samples, ), for example using ravel().\n",
      "  return f(*args, **kwargs)\n",
      "/Users/varya/miniforge3/envs/hseml/lib/python3.9/site-packages/sklearn/utils/validation.py:63: DataConversionWarning: A column-vector y was passed when a 1d array was expected. Please change the shape of y to (n_samples, ), for example using ravel().\n",
      "  return f(*args, **kwargs)\n",
      "/Users/varya/miniforge3/envs/hseml/lib/python3.9/site-packages/sklearn/utils/validation.py:63: DataConversionWarning: A column-vector y was passed when a 1d array was expected. Please change the shape of y to (n_samples, ), for example using ravel().\n",
      "  return f(*args, **kwargs)\n",
      "/Users/varya/miniforge3/envs/hseml/lib/python3.9/site-packages/sklearn/utils/validation.py:63: DataConversionWarning: A column-vector y was passed when a 1d array was expected. Please change the shape of y to (n_samples, ), for example using ravel().\n",
      "  return f(*args, **kwargs)\n",
      "/Users/varya/miniforge3/envs/hseml/lib/python3.9/site-packages/sklearn/utils/validation.py:63: DataConversionWarning: A column-vector y was passed when a 1d array was expected. Please change the shape of y to (n_samples, ), for example using ravel().\n",
      "  return f(*args, **kwargs)\n",
      "/Users/varya/miniforge3/envs/hseml/lib/python3.9/site-packages/sklearn/utils/validation.py:63: DataConversionWarning: A column-vector y was passed when a 1d array was expected. Please change the shape of y to (n_samples, ), for example using ravel().\n",
      "  return f(*args, **kwargs)\n",
      "/Users/varya/miniforge3/envs/hseml/lib/python3.9/site-packages/sklearn/utils/validation.py:63: DataConversionWarning: A column-vector y was passed when a 1d array was expected. Please change the shape of y to (n_samples, ), for example using ravel().\n",
      "  return f(*args, **kwargs)\n",
      "/Users/varya/miniforge3/envs/hseml/lib/python3.9/site-packages/sklearn/utils/validation.py:63: DataConversionWarning: A column-vector y was passed when a 1d array was expected. Please change the shape of y to (n_samples, ), for example using ravel().\n",
      "  return f(*args, **kwargs)\n"
     ]
    },
    {
     "name": "stdout",
     "output_type": "stream",
     "text": [
      "BEST C:  1.12\n",
      "BEST PROFIT:  2621.8294812855547\n"
     ]
    }
   ],
   "source": [
    "df = pd.read_csv('bank-additional/bank-additional-full.csv', sep=';')\n",
    "\n",
    "X = df.drop(columns=['duration', 'y'])\n",
    "y = (df.y == 'yes')\n",
    "space = np.linspace(0.01, 10, 10)\n",
    "profits = []\n",
    "stds = []\n",
    "\n",
    "best_profit = 0\n",
    "best_c = -1\n",
    "\n",
    "for c in space:\n",
    "    folds = KFold(n_splits=5, random_state=500, shuffle=True)\n",
    "    vir = []\n",
    "    prof = []\n",
    "    loss = []\n",
    "    for train_idx, test_idx in folds.split(X):\n",
    "        x_train, x_test = X.loc[train_idx], X.loc[test_idx]\n",
    "        y_train, y_test = y.loc[train_idx], y.loc[test_idx]\n",
    "        ore = OneHotEncoder()\n",
    "\n",
    "        x = x_train[columns_to_scale].reset_index().drop('index', axis=1)\n",
    "        yy = x_test[columns_to_scale].reset_index().drop('index', axis=1)\n",
    "\n",
    "        ore_train = pd.DataFrame(ore.fit_transform(x_train[columns_to_code]).toarray())\n",
    "        ore_test = pd.DataFrame(ore.transform(x_test[columns_to_code]).toarray())\n",
    "\n",
    "        y_train = y_train.reset_index().drop('index', axis=1)\n",
    "        x_train = x.join(ore_train)\n",
    "        x_test = yy.join(ore_test)\n",
    "\n",
    "        sgdr = LogisticRegression(fit_intercept = True, max_iter = 1000, \n",
    "                              tol=1e-5, C=c)\n",
    "        sgdr.fit(x_train, y_train)\n",
    "        sgdr_y_pred = sgdr.predict_proba(x_test)[:, 1]\n",
    "\n",
    "        loss.append(sgdr_y_pred.sum())\n",
    "        vir.append((sgdr_y_pred * y_test).sum() * np.random.rand() * 20)\n",
    "        prof.append(vir[-1] - loss[-1])\n",
    "    \n",
    "    \n",
    "    profit = np.mean(prof)\n",
    "    profits.append(profit)\n",
    "    stds.append(np.std(prof))\n",
    "    if profit > best_profit:\n",
    "        best_profit = profit\n",
    "        best_c = c\n",
    "    \n",
    "    \n",
    "print('BEST C: ', best_c)\n",
    "print('BEST PROFIT: ', best_profit)"
   ]
  },
  {
   "cell_type": "code",
   "execution_count": 55,
   "metadata": {},
   "outputs": [
    {
     "name": "stderr",
     "output_type": "stream",
     "text": [
      "/Users/varya/miniforge3/envs/hseml/lib/python3.9/site-packages/sklearn/utils/validation.py:63: DataConversionWarning: A column-vector y was passed when a 1d array was expected. Please change the shape of y to (n_samples, ), for example using ravel().\n",
      "  return f(*args, **kwargs)\n",
      "/Users/varya/miniforge3/envs/hseml/lib/python3.9/site-packages/sklearn/utils/validation.py:63: DataConversionWarning: A column-vector y was passed when a 1d array was expected. Please change the shape of y to (n_samples, ), for example using ravel().\n",
      "  return f(*args, **kwargs)\n",
      "/Users/varya/miniforge3/envs/hseml/lib/python3.9/site-packages/sklearn/utils/validation.py:63: DataConversionWarning: A column-vector y was passed when a 1d array was expected. Please change the shape of y to (n_samples, ), for example using ravel().\n",
      "  return f(*args, **kwargs)\n",
      "/Users/varya/miniforge3/envs/hseml/lib/python3.9/site-packages/sklearn/utils/validation.py:63: DataConversionWarning: A column-vector y was passed when a 1d array was expected. Please change the shape of y to (n_samples, ), for example using ravel().\n",
      "  return f(*args, **kwargs)\n",
      "/Users/varya/miniforge3/envs/hseml/lib/python3.9/site-packages/sklearn/utils/validation.py:63: DataConversionWarning: A column-vector y was passed when a 1d array was expected. Please change the shape of y to (n_samples, ), for example using ravel().\n",
      "  return f(*args, **kwargs)\n",
      "/Users/varya/miniforge3/envs/hseml/lib/python3.9/site-packages/sklearn/utils/validation.py:63: DataConversionWarning: A column-vector y was passed when a 1d array was expected. Please change the shape of y to (n_samples, ), for example using ravel().\n",
      "  return f(*args, **kwargs)\n",
      "/Users/varya/miniforge3/envs/hseml/lib/python3.9/site-packages/sklearn/utils/validation.py:63: DataConversionWarning: A column-vector y was passed when a 1d array was expected. Please change the shape of y to (n_samples, ), for example using ravel().\n",
      "  return f(*args, **kwargs)\n",
      "/Users/varya/miniforge3/envs/hseml/lib/python3.9/site-packages/sklearn/utils/validation.py:63: DataConversionWarning: A column-vector y was passed when a 1d array was expected. Please change the shape of y to (n_samples, ), for example using ravel().\n",
      "  return f(*args, **kwargs)\n",
      "/Users/varya/miniforge3/envs/hseml/lib/python3.9/site-packages/sklearn/utils/validation.py:63: DataConversionWarning: A column-vector y was passed when a 1d array was expected. Please change the shape of y to (n_samples, ), for example using ravel().\n",
      "  return f(*args, **kwargs)\n",
      "/Users/varya/miniforge3/envs/hseml/lib/python3.9/site-packages/sklearn/utils/validation.py:63: DataConversionWarning: A column-vector y was passed when a 1d array was expected. Please change the shape of y to (n_samples, ), for example using ravel().\n",
      "  return f(*args, **kwargs)\n",
      "/Users/varya/miniforge3/envs/hseml/lib/python3.9/site-packages/sklearn/utils/validation.py:63: DataConversionWarning: A column-vector y was passed when a 1d array was expected. Please change the shape of y to (n_samples, ), for example using ravel().\n",
      "  return f(*args, **kwargs)\n",
      "/Users/varya/miniforge3/envs/hseml/lib/python3.9/site-packages/sklearn/utils/validation.py:63: DataConversionWarning: A column-vector y was passed when a 1d array was expected. Please change the shape of y to (n_samples, ), for example using ravel().\n",
      "  return f(*args, **kwargs)\n",
      "/Users/varya/miniforge3/envs/hseml/lib/python3.9/site-packages/sklearn/utils/validation.py:63: DataConversionWarning: A column-vector y was passed when a 1d array was expected. Please change the shape of y to (n_samples, ), for example using ravel().\n",
      "  return f(*args, **kwargs)\n",
      "/Users/varya/miniforge3/envs/hseml/lib/python3.9/site-packages/sklearn/utils/validation.py:63: DataConversionWarning: A column-vector y was passed when a 1d array was expected. Please change the shape of y to (n_samples, ), for example using ravel().\n",
      "  return f(*args, **kwargs)\n",
      "/Users/varya/miniforge3/envs/hseml/lib/python3.9/site-packages/sklearn/utils/validation.py:63: DataConversionWarning: A column-vector y was passed when a 1d array was expected. Please change the shape of y to (n_samples, ), for example using ravel().\n",
      "  return f(*args, **kwargs)\n",
      "/Users/varya/miniforge3/envs/hseml/lib/python3.9/site-packages/sklearn/utils/validation.py:63: DataConversionWarning: A column-vector y was passed when a 1d array was expected. Please change the shape of y to (n_samples, ), for example using ravel().\n",
      "  return f(*args, **kwargs)\n",
      "/Users/varya/miniforge3/envs/hseml/lib/python3.9/site-packages/sklearn/utils/validation.py:63: DataConversionWarning: A column-vector y was passed when a 1d array was expected. Please change the shape of y to (n_samples, ), for example using ravel().\n",
      "  return f(*args, **kwargs)\n",
      "/Users/varya/miniforge3/envs/hseml/lib/python3.9/site-packages/sklearn/utils/validation.py:63: DataConversionWarning: A column-vector y was passed when a 1d array was expected. Please change the shape of y to (n_samples, ), for example using ravel().\n",
      "  return f(*args, **kwargs)\n",
      "/Users/varya/miniforge3/envs/hseml/lib/python3.9/site-packages/sklearn/utils/validation.py:63: DataConversionWarning: A column-vector y was passed when a 1d array was expected. Please change the shape of y to (n_samples, ), for example using ravel().\n",
      "  return f(*args, **kwargs)\n",
      "/Users/varya/miniforge3/envs/hseml/lib/python3.9/site-packages/sklearn/utils/validation.py:63: DataConversionWarning: A column-vector y was passed when a 1d array was expected. Please change the shape of y to (n_samples, ), for example using ravel().\n",
      "  return f(*args, **kwargs)\n",
      "/Users/varya/miniforge3/envs/hseml/lib/python3.9/site-packages/sklearn/utils/validation.py:63: DataConversionWarning: A column-vector y was passed when a 1d array was expected. Please change the shape of y to (n_samples, ), for example using ravel().\n",
      "  return f(*args, **kwargs)\n",
      "/Users/varya/miniforge3/envs/hseml/lib/python3.9/site-packages/sklearn/utils/validation.py:63: DataConversionWarning: A column-vector y was passed when a 1d array was expected. Please change the shape of y to (n_samples, ), for example using ravel().\n",
      "  return f(*args, **kwargs)\n",
      "/Users/varya/miniforge3/envs/hseml/lib/python3.9/site-packages/sklearn/utils/validation.py:63: DataConversionWarning: A column-vector y was passed when a 1d array was expected. Please change the shape of y to (n_samples, ), for example using ravel().\n",
      "  return f(*args, **kwargs)\n",
      "/Users/varya/miniforge3/envs/hseml/lib/python3.9/site-packages/sklearn/utils/validation.py:63: DataConversionWarning: A column-vector y was passed when a 1d array was expected. Please change the shape of y to (n_samples, ), for example using ravel().\n",
      "  return f(*args, **kwargs)\n",
      "/Users/varya/miniforge3/envs/hseml/lib/python3.9/site-packages/sklearn/utils/validation.py:63: DataConversionWarning: A column-vector y was passed when a 1d array was expected. Please change the shape of y to (n_samples, ), for example using ravel().\n",
      "  return f(*args, **kwargs)\n",
      "/Users/varya/miniforge3/envs/hseml/lib/python3.9/site-packages/sklearn/utils/validation.py:63: DataConversionWarning: A column-vector y was passed when a 1d array was expected. Please change the shape of y to (n_samples, ), for example using ravel().\n",
      "  return f(*args, **kwargs)\n",
      "/Users/varya/miniforge3/envs/hseml/lib/python3.9/site-packages/sklearn/utils/validation.py:63: DataConversionWarning: A column-vector y was passed when a 1d array was expected. Please change the shape of y to (n_samples, ), for example using ravel().\n",
      "  return f(*args, **kwargs)\n",
      "/Users/varya/miniforge3/envs/hseml/lib/python3.9/site-packages/sklearn/utils/validation.py:63: DataConversionWarning: A column-vector y was passed when a 1d array was expected. Please change the shape of y to (n_samples, ), for example using ravel().\n",
      "  return f(*args, **kwargs)\n",
      "/Users/varya/miniforge3/envs/hseml/lib/python3.9/site-packages/sklearn/utils/validation.py:63: DataConversionWarning: A column-vector y was passed when a 1d array was expected. Please change the shape of y to (n_samples, ), for example using ravel().\n",
      "  return f(*args, **kwargs)\n",
      "/Users/varya/miniforge3/envs/hseml/lib/python3.9/site-packages/sklearn/utils/validation.py:63: DataConversionWarning: A column-vector y was passed when a 1d array was expected. Please change the shape of y to (n_samples, ), for example using ravel().\n",
      "  return f(*args, **kwargs)\n"
     ]
    },
    {
     "name": "stderr",
     "output_type": "stream",
     "text": [
      "/Users/varya/miniforge3/envs/hseml/lib/python3.9/site-packages/sklearn/utils/validation.py:63: DataConversionWarning: A column-vector y was passed when a 1d array was expected. Please change the shape of y to (n_samples, ), for example using ravel().\n",
      "  return f(*args, **kwargs)\n",
      "/Users/varya/miniforge3/envs/hseml/lib/python3.9/site-packages/sklearn/utils/validation.py:63: DataConversionWarning: A column-vector y was passed when a 1d array was expected. Please change the shape of y to (n_samples, ), for example using ravel().\n",
      "  return f(*args, **kwargs)\n",
      "/Users/varya/miniforge3/envs/hseml/lib/python3.9/site-packages/sklearn/utils/validation.py:63: DataConversionWarning: A column-vector y was passed when a 1d array was expected. Please change the shape of y to (n_samples, ), for example using ravel().\n",
      "  return f(*args, **kwargs)\n",
      "/Users/varya/miniforge3/envs/hseml/lib/python3.9/site-packages/sklearn/utils/validation.py:63: DataConversionWarning: A column-vector y was passed when a 1d array was expected. Please change the shape of y to (n_samples, ), for example using ravel().\n",
      "  return f(*args, **kwargs)\n",
      "/Users/varya/miniforge3/envs/hseml/lib/python3.9/site-packages/sklearn/utils/validation.py:63: DataConversionWarning: A column-vector y was passed when a 1d array was expected. Please change the shape of y to (n_samples, ), for example using ravel().\n",
      "  return f(*args, **kwargs)\n",
      "/Users/varya/miniforge3/envs/hseml/lib/python3.9/site-packages/sklearn/utils/validation.py:63: DataConversionWarning: A column-vector y was passed when a 1d array was expected. Please change the shape of y to (n_samples, ), for example using ravel().\n",
      "  return f(*args, **kwargs)\n",
      "/Users/varya/miniforge3/envs/hseml/lib/python3.9/site-packages/sklearn/utils/validation.py:63: DataConversionWarning: A column-vector y was passed when a 1d array was expected. Please change the shape of y to (n_samples, ), for example using ravel().\n",
      "  return f(*args, **kwargs)\n",
      "/Users/varya/miniforge3/envs/hseml/lib/python3.9/site-packages/sklearn/utils/validation.py:63: DataConversionWarning: A column-vector y was passed when a 1d array was expected. Please change the shape of y to (n_samples, ), for example using ravel().\n",
      "  return f(*args, **kwargs)\n",
      "/Users/varya/miniforge3/envs/hseml/lib/python3.9/site-packages/sklearn/utils/validation.py:63: DataConversionWarning: A column-vector y was passed when a 1d array was expected. Please change the shape of y to (n_samples, ), for example using ravel().\n",
      "  return f(*args, **kwargs)\n",
      "/Users/varya/miniforge3/envs/hseml/lib/python3.9/site-packages/sklearn/utils/validation.py:63: DataConversionWarning: A column-vector y was passed when a 1d array was expected. Please change the shape of y to (n_samples, ), for example using ravel().\n",
      "  return f(*args, **kwargs)\n",
      "/Users/varya/miniforge3/envs/hseml/lib/python3.9/site-packages/sklearn/utils/validation.py:63: DataConversionWarning: A column-vector y was passed when a 1d array was expected. Please change the shape of y to (n_samples, ), for example using ravel().\n",
      "  return f(*args, **kwargs)\n",
      "/Users/varya/miniforge3/envs/hseml/lib/python3.9/site-packages/sklearn/utils/validation.py:63: DataConversionWarning: A column-vector y was passed when a 1d array was expected. Please change the shape of y to (n_samples, ), for example using ravel().\n",
      "  return f(*args, **kwargs)\n",
      "/Users/varya/miniforge3/envs/hseml/lib/python3.9/site-packages/sklearn/utils/validation.py:63: DataConversionWarning: A column-vector y was passed when a 1d array was expected. Please change the shape of y to (n_samples, ), for example using ravel().\n",
      "  return f(*args, **kwargs)\n",
      "/Users/varya/miniforge3/envs/hseml/lib/python3.9/site-packages/sklearn/utils/validation.py:63: DataConversionWarning: A column-vector y was passed when a 1d array was expected. Please change the shape of y to (n_samples, ), for example using ravel().\n",
      "  return f(*args, **kwargs)\n",
      "/Users/varya/miniforge3/envs/hseml/lib/python3.9/site-packages/sklearn/utils/validation.py:63: DataConversionWarning: A column-vector y was passed when a 1d array was expected. Please change the shape of y to (n_samples, ), for example using ravel().\n",
      "  return f(*args, **kwargs)\n",
      "/Users/varya/miniforge3/envs/hseml/lib/python3.9/site-packages/sklearn/utils/validation.py:63: DataConversionWarning: A column-vector y was passed when a 1d array was expected. Please change the shape of y to (n_samples, ), for example using ravel().\n",
      "  return f(*args, **kwargs)\n",
      "/Users/varya/miniforge3/envs/hseml/lib/python3.9/site-packages/sklearn/utils/validation.py:63: DataConversionWarning: A column-vector y was passed when a 1d array was expected. Please change the shape of y to (n_samples, ), for example using ravel().\n",
      "  return f(*args, **kwargs)\n",
      "/Users/varya/miniforge3/envs/hseml/lib/python3.9/site-packages/sklearn/utils/validation.py:63: DataConversionWarning: A column-vector y was passed when a 1d array was expected. Please change the shape of y to (n_samples, ), for example using ravel().\n",
      "  return f(*args, **kwargs)\n",
      "/Users/varya/miniforge3/envs/hseml/lib/python3.9/site-packages/sklearn/utils/validation.py:63: DataConversionWarning: A column-vector y was passed when a 1d array was expected. Please change the shape of y to (n_samples, ), for example using ravel().\n",
      "  return f(*args, **kwargs)\n",
      "/Users/varya/miniforge3/envs/hseml/lib/python3.9/site-packages/sklearn/utils/validation.py:63: DataConversionWarning: A column-vector y was passed when a 1d array was expected. Please change the shape of y to (n_samples, ), for example using ravel().\n",
      "  return f(*args, **kwargs)\n"
     ]
    },
    {
     "name": "stdout",
     "output_type": "stream",
     "text": [
      "BEST C:  7.78\n",
      "BEST PROFIT:  3209.1934155480617\n"
     ]
    }
   ],
   "source": [
    "df = pd.read_csv('bank-additional/bank-additional-full.csv', sep=';')\n",
    "\n",
    "X = df.drop(columns=['duration', 'y'])\n",
    "y = (df.y == 'yes')\n",
    "space = np.linspace(0.01, 10, 10)\n",
    "profits = []\n",
    "stds = []\n",
    "\n",
    "best_profit = 0\n",
    "best_c = -1\n",
    "\n",
    "for c in space:\n",
    "    folds = KFold(n_splits=5, random_state=500, shuffle=True)\n",
    "    vir = []\n",
    "    prof = []\n",
    "    loss = []\n",
    "    for train_idx, test_idx in folds.split(X):\n",
    "        x_train, x_test = X.loc[train_idx], X.loc[test_idx]\n",
    "        y_train, y_test = y.loc[train_idx], y.loc[test_idx]\n",
    "        ore = OneHotEncoder()\n",
    "\n",
    "        x = x_train[columns_to_scale].reset_index().drop('index', axis=1)\n",
    "        yy = x_test[columns_to_scale].reset_index().drop('index', axis=1)\n",
    "\n",
    "        ore_train = pd.DataFrame(ore.fit_transform(x_train[columns_to_code]).toarray())\n",
    "        ore_test = pd.DataFrame(ore.transform(x_test[columns_to_code]).toarray())\n",
    "\n",
    "        y_train = y_train.reset_index().drop('index', axis=1)\n",
    "        x_train = x.join(ore_train)\n",
    "        x_test = yy.join(ore_test)\n",
    "\n",
    "        sgdr = LogisticRegression(fit_intercept = True, max_iter = 1000, \n",
    "                              tol=1e-5, C=c)\n",
    "        sgdr.fit(x_train, y_train)\n",
    "        sgdr_y_pred = sgdr.predict_proba(x_test)[:, 1]\n",
    "\n",
    "        loss.append(sgdr_y_pred.sum())\n",
    "        vir.append((sgdr_y_pred * y_test).sum() * np.random.rand() * 20)\n",
    "        prof.append(vir[-1] - loss[-1])\n",
    "    \n",
    "    \n",
    "    profit = np.mean(prof)\n",
    "    profits.append(profit)\n",
    "    stds.append(np.std(prof))\n",
    "    if profit > best_profit:\n",
    "        best_profit = profit\n",
    "        best_c = c\n",
    "    \n",
    "    \n",
    "print('BEST C: ', best_c)\n",
    "print('BEST PROFIT: ', best_profit)"
   ]
  },
  {
   "cell_type": "markdown",
   "metadata": {},
   "source": [
    "**Вывод**\n",
    "\n",
    "BEST C:  4.45\n",
    "BEST PROFIT:  3320.050475004437\n",
    "    \n",
    "BEST C:  1.12\n",
    "BEST PROFIT:  2621.8294812855547\n",
    "\n",
    "BEST C:  7.78\n",
    "BEST PROFIT:  3209.1934155480617\n",
    "\n",
    "Подбираются разные тк для разного С профит случайный\n"
   ]
  },
  {
   "cell_type": "markdown",
   "metadata": {},
   "source": [
    "__Задание 12 (1 балл).__ Выше мы уже описали примерную экономическую модель вашей задачи. Как вы считаете, что для вашего бизнеса важнее — хороший precision или recall модели? Почему?\n",
    "\n",
    "__Ответ:__\n",
    "\n"
   ]
  },
  {
   "cell_type": "markdown",
   "metadata": {},
   "source": [
    "__Бонус (0.01 балла):__ что вы кушали в день сдачи данного ДЗ на завтрак?\n",
    "\n",
    "__Ответ:__ боль"
   ]
  },
  {
   "cell_type": "markdown",
   "metadata": {},
   "source": [
    "__Социализационный бонус (0.1 балл).__\n",
    "Введены новые ограничения, занятия теперь дистанционные. Но это не значит, что не надо общаться с друзьями! Созвонитесь в зуме (или любым другим способом) хотя бы с двумя студентами курса МО-1 этого года, приложите скриншот созвона с включенными камерами и напишите очень кратко, на какие темы были беседы.\n",
    "\n",
    "__Ответ:__ про машинку.........."
   ]
  },
  {
   "cell_type": "markdown",
   "metadata": {},
   "source": [
    "![](123.jpeg)"
   ]
  },
  {
   "cell_type": "code",
   "execution_count": null,
   "metadata": {},
   "outputs": [],
   "source": []
  }
 ],
 "metadata": {
  "kernelspec": {
   "display_name": "Python 3 (ipykernel)",
   "language": "python",
   "name": "python3"
  },
  "language_info": {
   "codemirror_mode": {
    "name": "ipython",
    "version": 3
   },
   "file_extension": ".py",
   "mimetype": "text/x-python",
   "name": "python",
   "nbconvert_exporter": "python",
   "pygments_lexer": "ipython3",
   "version": "3.9.7"
  }
 },
 "nbformat": 4,
 "nbformat_minor": 4
}
